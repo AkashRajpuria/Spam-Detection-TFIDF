{
 "cells": [
  {
   "cell_type": "code",
   "execution_count": 9,
   "metadata": {},
   "outputs": [],
   "source": [
    "%matplotlib inline\n",
    "import os\n",
    "import sys\n",
    "import numpy\n",
    "from pandas import DataFrame\n",
    "from sklearn.feature_extraction.text import CountVectorizer\n",
    "from sklearn.naive_bayes import MultinomialNB\n",
    "from sklearn.pipeline import Pipeline\n",
    "from sklearn.model_selection import KFold\n",
    "from sklearn.metrics import confusion_matrix, f1_score\n",
    "\n",
    "def progress(i, end_val, bar_length=50):\n",
    "    '''\n",
    "    Print a progress bar of the form: Percent: [#####      ]\n",
    "    i is the current progress value expected in a range [0..end_val]\n",
    "    bar_length is the width of the progress bar on the screen.\n",
    "    '''\n",
    "    percent = float(i) / end_val\n",
    "    hashes = '#' * int(round(percent * bar_length))\n",
    "    spaces = ' ' * (bar_length - len(hashes))\n",
    "    sys.stdout.write(\"\\rPercent: [{0}] {1}%\".format(hashes + spaces, int(round(percent * 100))))\n",
    "    sys.stdout.flush()\n",
    "\n",
    "NEWLINE = '\\n'"
   ]
  },
  {
   "cell_type": "code",
   "execution_count": 10,
   "metadata": {},
   "outputs": [],
   "source": [
    "HAM = 'ham'\n",
    "SPAM = 'spam'\n",
    "\n",
    "SOURCES = [\n",
    "    ('data/spam',        SPAM),\n",
    "    ('data/easy_ham',    HAM),\n",
    "    ('data/hard_ham',    HAM),\n",
    "    ('data/beck-s',      HAM),\n",
    "    ('data/farmer-d',    HAM),\n",
    "    ('data/kaminski-v',  HAM),\n",
    "    ('data/kitchen-l',   HAM),\n",
    "    ('data/lokay-m',     HAM),\n",
    "    ('data/williams-w3', HAM),\n",
    "    ('data/BG',          SPAM),\n",
    "    ('data/GP',          SPAM),\n",
    "    ('data/SH',          SPAM)\n",
    "]\n",
    "\n",
    "SKIP_FILES = {'cmds'}\n",
    "\n",
    "\n",
    "def read_files(path):\n",
    "    '''\n",
    "    Generator of pairs (filename, filecontent)\n",
    "    for all files below path whose name is not in SKIP_FILES.\n",
    "    The content of the file is of the form:\n",
    "        header....\n",
    "        <emptyline>\n",
    "        body...\n",
    "    This skips the headers and returns body only.\n",
    "    '''\n",
    "    for root, dir_names, file_names in os.walk(path):\n",
    "        for path in dir_names:\n",
    "            read_files(os.path.join(root, path))\n",
    "        for file_name in file_names:\n",
    "            if file_name not in SKIP_FILES:\n",
    "                file_path = os.path.join(root, file_name)\n",
    "                if os.path.isfile(file_path):\n",
    "                    past_header, lines = False, []\n",
    "                    f = open(file_path, encoding=\"latin-1\")\n",
    "                    for line in f:\n",
    "                        if past_header:\n",
    "                            lines.append(line)\n",
    "                        elif line == NEWLINE:\n",
    "                            past_header = True\n",
    "                    f.close()\n",
    "                    content = NEWLINE.join(lines)\n",
    "                    yield file_path, content\n",
    "\n",
    "\n",
    "def build_data_frame(l, path, classification):\n",
    "    rows = []\n",
    "    index = []\n",
    "    for i, (file_name, text) in enumerate(read_files(path)):\n",
    "        if ((i+l) % 100 == 0):\n",
    "            progress(i+l, 58910, 50)\n",
    "        rows.append({'text': text, 'class': classification})\n",
    "        index.append(file_name)\n",
    "   \n",
    "    data_frame = DataFrame(rows, index=index)\n",
    "    return data_frame, len(rows)\n",
    "\n",
    "def load_data():\n",
    "    data = DataFrame({'text': [], 'class': []})\n",
    "    l = 0\n",
    "    for path, classification in SOURCES:\n",
    "        data_frame, nrows = build_data_frame(l, path, classification)\n",
    "        data = data.append(data_frame)\n",
    "        l += nrows\n",
    "    data = data.reindex(numpy.random.permutation(data.index))\n",
    "    return data"
   ]
  },
  {
   "cell_type": "code",
   "execution_count": 11,
   "metadata": {},
   "outputs": [
    {
     "name": "stdout",
     "output_type": "stream",
     "text": [
      "Percent: [##                                                ] 4%"
     ]
    },
    {
     "name": "stderr",
     "output_type": "stream",
     "text": [
      "D:\\Anacondda\\a\\lib\\site-packages\\pandas\\core\\frame.py:6211: FutureWarning: Sorting because non-concatenation axis is not aligned. A future version\n",
      "of pandas will change to not sort by default.\n",
      "\n",
      "To accept the future behavior, pass 'sort=False'.\n",
      "\n",
      "To retain the current behavior and silence the warning, pass 'sort=True'.\n",
      "\n",
      "  sort=sort)\n"
     ]
    },
    {
     "name": "stdout",
     "output_type": "stream",
     "text": [
      "Percent: [##################################################] 100%"
     ]
    }
   ],
   "source": [
    "data=load_data()\n"
   ]
  },
  {
   "cell_type": "markdown",
   "metadata": {},
   "source": [
    "# Now Data is ready "
   ]
  },
  {
   "cell_type": "code",
   "execution_count": 12,
   "metadata": {},
   "outputs": [
    {
     "data": {
      "text/html": [
       "<div>\n",
       "<style scoped>\n",
       "    .dataframe tbody tr th:only-of-type {\n",
       "        vertical-align: middle;\n",
       "    }\n",
       "\n",
       "    .dataframe tbody tr th {\n",
       "        vertical-align: top;\n",
       "    }\n",
       "\n",
       "    .dataframe thead th {\n",
       "        text-align: right;\n",
       "    }\n",
       "</style>\n",
       "<table border=\"1\" class=\"dataframe\">\n",
       "  <thead>\n",
       "    <tr style=\"text-align: right;\">\n",
       "      <th></th>\n",
       "      <th>class</th>\n",
       "      <th>text</th>\n",
       "    </tr>\n",
       "  </thead>\n",
       "  <tbody>\n",
       "    <tr>\n",
       "      <th>data/BG\\2005\\03\\1111378896.310_102.txt</th>\n",
       "      <td>spam</td>\n",
       "      <td>&lt;table border=0 width=\"100%\" cellpadding=\"8\"  ...</td>\n",
       "    </tr>\n",
       "    <tr>\n",
       "      <th>data/BG\\2004\\08\\1091639672.6258_79.txt</th>\n",
       "      <td>spam</td>\n",
       "      <td>----2812957960422\\n\\nContent-Type: text/plain;...</td>\n",
       "    </tr>\n",
       "    <tr>\n",
       "      <th>data/GP\\part12\\msg3973.eml</th>\n",
       "      <td>spam</td>\n",
       "      <td>&lt;HTML&gt;&lt;FONT  SIZE=3D2 PTSIZE=3D10 FAMILY=3D\"SA...</td>\n",
       "    </tr>\n",
       "    <tr>\n",
       "      <th>data/SH\\HP\\prodmsg.2.446094.2005717</th>\n",
       "      <td>spam</td>\n",
       "      <td>This is a MIME-encapsulated message\\n\\n\\n\\n--j...</td>\n",
       "    </tr>\n",
       "    <tr>\n",
       "      <th>data/williams-w3\\bill_williams_iii\\485</th>\n",
       "      <td>ham</td>\n",
       "      <td>Bill,\\n\\n\\n\\nThese are currently being tested ...</td>\n",
       "    </tr>\n",
       "  </tbody>\n",
       "</table>\n",
       "</div>"
      ],
      "text/plain": [
       "                                       class  \\\n",
       "data/BG\\2005\\03\\1111378896.310_102.txt  spam   \n",
       "data/BG\\2004\\08\\1091639672.6258_79.txt  spam   \n",
       "data/GP\\part12\\msg3973.eml              spam   \n",
       "data/SH\\HP\\prodmsg.2.446094.2005717     spam   \n",
       "data/williams-w3\\bill_williams_iii\\485   ham   \n",
       "\n",
       "                                                                                     text  \n",
       "data/BG\\2005\\03\\1111378896.310_102.txt  <table border=0 width=\"100%\" cellpadding=\"8\"  ...  \n",
       "data/BG\\2004\\08\\1091639672.6258_79.txt  ----2812957960422\\n\\nContent-Type: text/plain;...  \n",
       "data/GP\\part12\\msg3973.eml              <HTML><FONT  SIZE=3D2 PTSIZE=3D10 FAMILY=3D\"SA...  \n",
       "data/SH\\HP\\prodmsg.2.446094.2005717     This is a MIME-encapsulated message\\n\\n\\n\\n--j...  \n",
       "data/williams-w3\\bill_williams_iii\\485  Bill,\\n\\n\\n\\nThese are currently being tested ...  "
      ]
     },
     "execution_count": 12,
     "metadata": {},
     "output_type": "execute_result"
    }
   ],
   "source": [
    "data.head()"
   ]
  },
  {
   "cell_type": "code",
   "execution_count": null,
   "metadata": {},
   "outputs": [],
   "source": [
    "\n"
   ]
  },
  {
   "cell_type": "code",
   "execution_count": null,
   "metadata": {},
   "outputs": [],
   "source": []
  },
  {
   "cell_type": "markdown",
   "metadata": {},
   "source": [
    "Let's Check the size of data"
   ]
  },
  {
   "cell_type": "code",
   "execution_count": 13,
   "metadata": {},
   "outputs": [
    {
     "data": {
      "text/plain": [
       "58910"
      ]
     },
     "execution_count": 13,
     "metadata": {},
     "output_type": "execute_result"
    }
   ],
   "source": [
    "len(data)\n"
   ]
  },
  {
   "cell_type": "markdown",
   "metadata": {},
   "source": [
    "# The above data is only of spam and ham emails but for SMS we will need a message dataset also"
   ]
  },
  {
   "cell_type": "code",
   "execution_count": 14,
   "metadata": {},
   "outputs": [],
   "source": [
    "import pandas as pd\n",
    "datasms=pd.read_csv('SMSSpamCollection.csv')"
   ]
  },
  {
   "cell_type": "code",
   "execution_count": 15,
   "metadata": {},
   "outputs": [
    {
     "data": {
      "text/html": [
       "<div>\n",
       "<style scoped>\n",
       "    .dataframe tbody tr th:only-of-type {\n",
       "        vertical-align: middle;\n",
       "    }\n",
       "\n",
       "    .dataframe tbody tr th {\n",
       "        vertical-align: top;\n",
       "    }\n",
       "\n",
       "    .dataframe thead th {\n",
       "        text-align: right;\n",
       "    }\n",
       "</style>\n",
       "<table border=\"1\" class=\"dataframe\">\n",
       "  <thead>\n",
       "    <tr style=\"text-align: right;\">\n",
       "      <th></th>\n",
       "      <th>class</th>\n",
       "      <th>text</th>\n",
       "      <th>Unnamed: 2</th>\n",
       "      <th>Unnamed: 3</th>\n",
       "      <th>Unnamed: 4</th>\n",
       "      <th>Unnamed: 5</th>\n",
       "      <th>Unnamed: 6</th>\n",
       "      <th>Unnamed: 7</th>\n",
       "      <th>Unnamed: 8</th>\n",
       "      <th>Unnamed: 9</th>\n",
       "      <th>Unnamed: 10</th>\n",
       "      <th>Unnamed: 11</th>\n",
       "      <th>Unnamed: 12</th>\n",
       "      <th>Unnamed: 13</th>\n",
       "    </tr>\n",
       "  </thead>\n",
       "  <tbody>\n",
       "    <tr>\n",
       "      <th>0</th>\n",
       "      <td>ham</td>\n",
       "      <td>Go until jurong point</td>\n",
       "      <td>NaN</td>\n",
       "      <td>NaN</td>\n",
       "      <td>NaN</td>\n",
       "      <td>NaN</td>\n",
       "      <td>NaN</td>\n",
       "      <td>NaN</td>\n",
       "      <td>NaN</td>\n",
       "      <td>NaN</td>\n",
       "      <td>NaN</td>\n",
       "      <td>NaN</td>\n",
       "      <td>NaN</td>\n",
       "      <td>NaN</td>\n",
       "    </tr>\n",
       "    <tr>\n",
       "      <th>1</th>\n",
       "      <td>ham</td>\n",
       "      <td>Ok lar... Joking wif u oni...</td>\n",
       "      <td>NaN</td>\n",
       "      <td>NaN</td>\n",
       "      <td>NaN</td>\n",
       "      <td>NaN</td>\n",
       "      <td>NaN</td>\n",
       "      <td>NaN</td>\n",
       "      <td>NaN</td>\n",
       "      <td>NaN</td>\n",
       "      <td>NaN</td>\n",
       "      <td>NaN</td>\n",
       "      <td>NaN</td>\n",
       "      <td>NaN</td>\n",
       "    </tr>\n",
       "    <tr>\n",
       "      <th>2</th>\n",
       "      <td>spam</td>\n",
       "      <td>Free entry in 2 a wkly comp to win FA Cup fina...</td>\n",
       "      <td>NaN</td>\n",
       "      <td>NaN</td>\n",
       "      <td>NaN</td>\n",
       "      <td>NaN</td>\n",
       "      <td>NaN</td>\n",
       "      <td>NaN</td>\n",
       "      <td>NaN</td>\n",
       "      <td>NaN</td>\n",
       "      <td>NaN</td>\n",
       "      <td>NaN</td>\n",
       "      <td>NaN</td>\n",
       "      <td>NaN</td>\n",
       "    </tr>\n",
       "    <tr>\n",
       "      <th>3</th>\n",
       "      <td>ham</td>\n",
       "      <td>U dun say so early hor... U c already then say...</td>\n",
       "      <td>NaN</td>\n",
       "      <td>NaN</td>\n",
       "      <td>NaN</td>\n",
       "      <td>NaN</td>\n",
       "      <td>NaN</td>\n",
       "      <td>NaN</td>\n",
       "      <td>NaN</td>\n",
       "      <td>NaN</td>\n",
       "      <td>NaN</td>\n",
       "      <td>NaN</td>\n",
       "      <td>NaN</td>\n",
       "      <td>NaN</td>\n",
       "    </tr>\n",
       "    <tr>\n",
       "      <th>4</th>\n",
       "      <td>ham</td>\n",
       "      <td>Nah I don't think he goes to usf</td>\n",
       "      <td>NaN</td>\n",
       "      <td>NaN</td>\n",
       "      <td>NaN</td>\n",
       "      <td>NaN</td>\n",
       "      <td>NaN</td>\n",
       "      <td>NaN</td>\n",
       "      <td>NaN</td>\n",
       "      <td>NaN</td>\n",
       "      <td>NaN</td>\n",
       "      <td>NaN</td>\n",
       "      <td>NaN</td>\n",
       "      <td>NaN</td>\n",
       "    </tr>\n",
       "  </tbody>\n",
       "</table>\n",
       "</div>"
      ],
      "text/plain": [
       "  class                                               text Unnamed: 2  \\\n",
       "0   ham                              Go until jurong point        NaN   \n",
       "1   ham                      Ok lar... Joking wif u oni...        NaN   \n",
       "2  spam  Free entry in 2 a wkly comp to win FA Cup fina...        NaN   \n",
       "3   ham  U dun say so early hor... U c already then say...        NaN   \n",
       "4   ham                   Nah I don't think he goes to usf        NaN   \n",
       "\n",
       "  Unnamed: 3 Unnamed: 4 Unnamed: 5 Unnamed: 6 Unnamed: 7 Unnamed: 8  \\\n",
       "0        NaN        NaN        NaN        NaN        NaN        NaN   \n",
       "1        NaN        NaN        NaN        NaN        NaN        NaN   \n",
       "2        NaN        NaN        NaN        NaN        NaN        NaN   \n",
       "3        NaN        NaN        NaN        NaN        NaN        NaN   \n",
       "4        NaN        NaN        NaN        NaN        NaN        NaN   \n",
       "\n",
       "  Unnamed: 9 Unnamed: 10 Unnamed: 11 Unnamed: 12 Unnamed: 13  \n",
       "0        NaN         NaN         NaN         NaN         NaN  \n",
       "1        NaN         NaN         NaN         NaN         NaN  \n",
       "2        NaN         NaN         NaN         NaN         NaN  \n",
       "3        NaN         NaN         NaN         NaN         NaN  \n",
       "4        NaN         NaN         NaN         NaN         NaN  "
      ]
     },
     "execution_count": 15,
     "metadata": {},
     "output_type": "execute_result"
    }
   ],
   "source": [
    "datasms.head()"
   ]
  },
  {
   "cell_type": "markdown",
   "metadata": {},
   "source": [
    "But the sms data is not cleaned so we will remve this nan values"
   ]
  },
  {
   "cell_type": "code",
   "execution_count": 16,
   "metadata": {},
   "outputs": [
    {
     "data": {
      "text/html": [
       "<div>\n",
       "<style scoped>\n",
       "    .dataframe tbody tr th:only-of-type {\n",
       "        vertical-align: middle;\n",
       "    }\n",
       "\n",
       "    .dataframe tbody tr th {\n",
       "        vertical-align: top;\n",
       "    }\n",
       "\n",
       "    .dataframe thead th {\n",
       "        text-align: right;\n",
       "    }\n",
       "</style>\n",
       "<table border=\"1\" class=\"dataframe\">\n",
       "  <thead>\n",
       "    <tr style=\"text-align: right;\">\n",
       "      <th></th>\n",
       "      <th>class</th>\n",
       "      <th>text</th>\n",
       "      <th>Unnamed: 2</th>\n",
       "      <th>Unnamed: 3</th>\n",
       "      <th>Unnamed: 4</th>\n",
       "      <th>Unnamed: 5</th>\n",
       "      <th>Unnamed: 6</th>\n",
       "      <th>Unnamed: 7</th>\n",
       "      <th>Unnamed: 8</th>\n",
       "      <th>Unnamed: 9</th>\n",
       "      <th>Unnamed: 10</th>\n",
       "      <th>Unnamed: 11</th>\n",
       "      <th>Unnamed: 12</th>\n",
       "      <th>Unnamed: 13</th>\n",
       "    </tr>\n",
       "  </thead>\n",
       "  <tbody>\n",
       "    <tr>\n",
       "      <th>count</th>\n",
       "      <td>5574</td>\n",
       "      <td>5570</td>\n",
       "      <td>369</td>\n",
       "      <td>141</td>\n",
       "      <td>62</td>\n",
       "      <td>40</td>\n",
       "      <td>22</td>\n",
       "      <td>8</td>\n",
       "      <td>6</td>\n",
       "      <td>2</td>\n",
       "      <td>2</td>\n",
       "      <td>1</td>\n",
       "      <td>1</td>\n",
       "      <td>1</td>\n",
       "    </tr>\n",
       "    <tr>\n",
       "      <th>unique</th>\n",
       "      <td>2</td>\n",
       "      <td>4967</td>\n",
       "      <td>310</td>\n",
       "      <td>108</td>\n",
       "      <td>40</td>\n",
       "      <td>26</td>\n",
       "      <td>12</td>\n",
       "      <td>7</td>\n",
       "      <td>6</td>\n",
       "      <td>2</td>\n",
       "      <td>2</td>\n",
       "      <td>1</td>\n",
       "      <td>1</td>\n",
       "      <td>1</td>\n",
       "    </tr>\n",
       "    <tr>\n",
       "      <th>top</th>\n",
       "      <td>ham</td>\n",
       "      <td>Sorry</td>\n",
       "      <td>POBox334</td>\n",
       "      <td>Stockport</td>\n",
       "      <td>SK38xh</td>\n",
       "      <td>Cost£1.50/pm</td>\n",
       "      <td>Max10mins</td>\n",
       "      <td>Make a strike against it ...</td>\n",
       "      <td>about... Up to u! Wot about ?</td>\n",
       "      <td>but when you don't make the bed</td>\n",
       "      <td>when you throw laundry on top of it</td>\n",
       "      <td>when i can't have a friend in the house becau...</td>\n",
       "      <td>pillows on the floor</td>\n",
       "      <td>that's something else. You used to be good ab...</td>\n",
       "    </tr>\n",
       "    <tr>\n",
       "      <th>freq</th>\n",
       "      <td>4827</td>\n",
       "      <td>52</td>\n",
       "      <td>6</td>\n",
       "      <td>6</td>\n",
       "      <td>6</td>\n",
       "      <td>6</td>\n",
       "      <td>6</td>\n",
       "      <td>2</td>\n",
       "      <td>1</td>\n",
       "      <td>1</td>\n",
       "      <td>1</td>\n",
       "      <td>1</td>\n",
       "      <td>1</td>\n",
       "      <td>1</td>\n",
       "    </tr>\n",
       "  </tbody>\n",
       "</table>\n",
       "</div>"
      ],
      "text/plain": [
       "       class   text Unnamed: 2  Unnamed: 3 Unnamed: 4     Unnamed: 5  \\\n",
       "count   5574   5570        369         141         62             40   \n",
       "unique     2   4967        310         108         40             26   \n",
       "top      ham  Sorry   POBox334   Stockport     SK38xh   Cost£1.50/pm   \n",
       "freq    4827     52          6           6          6              6   \n",
       "\n",
       "        Unnamed: 6                     Unnamed: 7  \\\n",
       "count           22                              8   \n",
       "unique          12                              7   \n",
       "top      Max10mins   Make a strike against it ...   \n",
       "freq             6                              2   \n",
       "\n",
       "                             Unnamed: 8                        Unnamed: 9  \\\n",
       "count                                 6                                 2   \n",
       "unique                                6                                 2   \n",
       "top      about... Up to u! Wot about ?    but when you don't make the bed   \n",
       "freq                                  1                                 1   \n",
       "\n",
       "                                 Unnamed: 10  \\\n",
       "count                                      2   \n",
       "unique                                     2   \n",
       "top      when you throw laundry on top of it   \n",
       "freq                                       1   \n",
       "\n",
       "                                              Unnamed: 11  \\\n",
       "count                                                   1   \n",
       "unique                                                  1   \n",
       "top      when i can't have a friend in the house becau...   \n",
       "freq                                                    1   \n",
       "\n",
       "                  Unnamed: 12  \\\n",
       "count                       1   \n",
       "unique                      1   \n",
       "top      pillows on the floor   \n",
       "freq                        1   \n",
       "\n",
       "                                              Unnamed: 13  \n",
       "count                                                   1  \n",
       "unique                                                  1  \n",
       "top      that's something else. You used to be good ab...  \n",
       "freq                                                    1  "
      ]
     },
     "execution_count": 16,
     "metadata": {},
     "output_type": "execute_result"
    }
   ],
   "source": [
    "len(datasms)\n",
    "datasms.describe()\n"
   ]
  },
  {
   "cell_type": "markdown",
   "metadata": {},
   "source": [
    "(1)First column of dataset contains labels ham or spam                                                  \n",
    "(2)Second column contain the text                                           \n",
    "(3)There are total 5574 Sms out of which 4827 are ham and 747 spam                                         \n",
    "Count of spam sms data is very less                               "
   ]
  },
  {
   "cell_type": "code",
   "execution_count": 17,
   "metadata": {},
   "outputs": [],
   "source": [
    "datasms=datasms.iloc[:,0:2]"
   ]
  },
  {
   "cell_type": "code",
   "execution_count": 18,
   "metadata": {},
   "outputs": [
    {
     "data": {
      "text/html": [
       "<div>\n",
       "<style scoped>\n",
       "    .dataframe tbody tr th:only-of-type {\n",
       "        vertical-align: middle;\n",
       "    }\n",
       "\n",
       "    .dataframe tbody tr th {\n",
       "        vertical-align: top;\n",
       "    }\n",
       "\n",
       "    .dataframe thead th {\n",
       "        text-align: right;\n",
       "    }\n",
       "</style>\n",
       "<table border=\"1\" class=\"dataframe\">\n",
       "  <thead>\n",
       "    <tr style=\"text-align: right;\">\n",
       "      <th></th>\n",
       "      <th>class</th>\n",
       "      <th>text</th>\n",
       "    </tr>\n",
       "  </thead>\n",
       "  <tbody>\n",
       "    <tr>\n",
       "      <th>count</th>\n",
       "      <td>5574</td>\n",
       "      <td>5570</td>\n",
       "    </tr>\n",
       "    <tr>\n",
       "      <th>unique</th>\n",
       "      <td>2</td>\n",
       "      <td>4967</td>\n",
       "    </tr>\n",
       "    <tr>\n",
       "      <th>top</th>\n",
       "      <td>ham</td>\n",
       "      <td>Sorry</td>\n",
       "    </tr>\n",
       "    <tr>\n",
       "      <th>freq</th>\n",
       "      <td>4827</td>\n",
       "      <td>52</td>\n",
       "    </tr>\n",
       "  </tbody>\n",
       "</table>\n",
       "</div>"
      ],
      "text/plain": [
       "       class   text\n",
       "count   5574   5570\n",
       "unique     2   4967\n",
       "top      ham  Sorry\n",
       "freq    4827     52"
      ]
     },
     "execution_count": 18,
     "metadata": {},
     "output_type": "execute_result"
    }
   ],
   "source": [
    "datasms.describe()"
   ]
  },
  {
   "cell_type": "markdown",
   "metadata": {},
   "source": [
    "still the dataset is not completely clean it contains null or nan values.              \n",
    "Further processing or cleaning of data is finding those null values and deleting them"
   ]
  },
  {
   "cell_type": "code",
   "execution_count": 19,
   "metadata": {},
   "outputs": [
    {
     "data": {
      "text/html": [
       "<div>\n",
       "<style scoped>\n",
       "    .dataframe tbody tr th:only-of-type {\n",
       "        vertical-align: middle;\n",
       "    }\n",
       "\n",
       "    .dataframe tbody tr th {\n",
       "        vertical-align: top;\n",
       "    }\n",
       "\n",
       "    .dataframe thead th {\n",
       "        text-align: right;\n",
       "    }\n",
       "</style>\n",
       "<table border=\"1\" class=\"dataframe\">\n",
       "  <thead>\n",
       "    <tr style=\"text-align: right;\">\n",
       "      <th></th>\n",
       "      <th>class</th>\n",
       "      <th>text</th>\n",
       "    </tr>\n",
       "  </thead>\n",
       "  <tbody>\n",
       "    <tr>\n",
       "      <th>0</th>\n",
       "      <td>ham</td>\n",
       "      <td>Go until jurong point</td>\n",
       "    </tr>\n",
       "    <tr>\n",
       "      <th>1</th>\n",
       "      <td>ham</td>\n",
       "      <td>Ok lar... Joking wif u oni...</td>\n",
       "    </tr>\n",
       "    <tr>\n",
       "      <th>2</th>\n",
       "      <td>spam</td>\n",
       "      <td>Free entry in 2 a wkly comp to win FA Cup fina...</td>\n",
       "    </tr>\n",
       "    <tr>\n",
       "      <th>3</th>\n",
       "      <td>ham</td>\n",
       "      <td>U dun say so early hor... U c already then say...</td>\n",
       "    </tr>\n",
       "    <tr>\n",
       "      <th>4</th>\n",
       "      <td>ham</td>\n",
       "      <td>Nah I don't think he goes to usf</td>\n",
       "    </tr>\n",
       "  </tbody>\n",
       "</table>\n",
       "</div>"
      ],
      "text/plain": [
       "  class                                               text\n",
       "0   ham                              Go until jurong point\n",
       "1   ham                      Ok lar... Joking wif u oni...\n",
       "2  spam  Free entry in 2 a wkly comp to win FA Cup fina...\n",
       "3   ham  U dun say so early hor... U c already then say...\n",
       "4   ham                   Nah I don't think he goes to usf"
      ]
     },
     "execution_count": 19,
     "metadata": {},
     "output_type": "execute_result"
    }
   ],
   "source": [
    "datasms.head()"
   ]
  },
  {
   "cell_type": "code",
   "execution_count": 20,
   "metadata": {},
   "outputs": [
    {
     "data": {
      "text/plain": [
       "(array([3475, 4006, 4387, 5486], dtype=int64),\n",
       " array([1, 1, 1, 1], dtype=int64))"
      ]
     },
     "execution_count": 20,
     "metadata": {},
     "output_type": "execute_result"
    }
   ],
   "source": [
    "import numpy as np\n",
    "np.where(np.asanyarray(pd.isnull(datasms)))\n"
   ]
  },
  {
   "cell_type": "code",
   "execution_count": 21,
   "metadata": {},
   "outputs": [],
   "source": [
    "datasms=datasms.drop([3475,4006,4387,5486],axis=0)"
   ]
  },
  {
   "cell_type": "markdown",
   "metadata": {},
   "source": [
    "np.where--> To find the location                                              \n",
    "np.asanyarray----> Convert the input to an ndarray                                     \n",
    "pd.isnull---> to find the null values in your data set                   \n",
    "We got the index of the values like[3475th row and 1st column] "
   ]
  },
  {
   "cell_type": "markdown",
   "metadata": {},
   "source": [
    "Our email dataset doesn't have the proper index.                          \n",
    "Resetting the data index same as datasms i.e 0,1,2,3,4...upto the length of data"
   ]
  },
  {
   "cell_type": "code",
   "execution_count": 23,
   "metadata": {},
   "outputs": [],
   "source": [
    "new_index=[x for x in range(len(data))]\n",
    "data.index=new_index"
   ]
  },
  {
   "cell_type": "code",
   "execution_count": null,
   "metadata": {},
   "outputs": [],
   "source": []
  },
  {
   "cell_type": "code",
   "execution_count": null,
   "metadata": {},
   "outputs": [],
   "source": []
  },
  {
   "cell_type": "code",
   "execution_count": 24,
   "metadata": {},
   "outputs": [
    {
     "data": {
      "text/html": [
       "<div>\n",
       "<style scoped>\n",
       "    .dataframe tbody tr th:only-of-type {\n",
       "        vertical-align: middle;\n",
       "    }\n",
       "\n",
       "    .dataframe tbody tr th {\n",
       "        vertical-align: top;\n",
       "    }\n",
       "\n",
       "    .dataframe thead th {\n",
       "        text-align: right;\n",
       "    }\n",
       "</style>\n",
       "<table border=\"1\" class=\"dataframe\">\n",
       "  <thead>\n",
       "    <tr style=\"text-align: right;\">\n",
       "      <th></th>\n",
       "      <th>class</th>\n",
       "      <th>text</th>\n",
       "    </tr>\n",
       "  </thead>\n",
       "  <tbody>\n",
       "    <tr>\n",
       "      <th>0</th>\n",
       "      <td>ham</td>\n",
       "      <td>Go until jurong point</td>\n",
       "    </tr>\n",
       "    <tr>\n",
       "      <th>1</th>\n",
       "      <td>ham</td>\n",
       "      <td>Ok lar... Joking wif u oni...</td>\n",
       "    </tr>\n",
       "    <tr>\n",
       "      <th>2</th>\n",
       "      <td>spam</td>\n",
       "      <td>Free entry in 2 a wkly comp to win FA Cup fina...</td>\n",
       "    </tr>\n",
       "    <tr>\n",
       "      <th>3</th>\n",
       "      <td>ham</td>\n",
       "      <td>U dun say so early hor... U c already then say...</td>\n",
       "    </tr>\n",
       "    <tr>\n",
       "      <th>4</th>\n",
       "      <td>ham</td>\n",
       "      <td>Nah I don't think he goes to usf</td>\n",
       "    </tr>\n",
       "  </tbody>\n",
       "</table>\n",
       "</div>"
      ],
      "text/plain": [
       "  class                                               text\n",
       "0   ham                              Go until jurong point\n",
       "1   ham                      Ok lar... Joking wif u oni...\n",
       "2  spam  Free entry in 2 a wkly comp to win FA Cup fina...\n",
       "3   ham  U dun say so early hor... U c already then say...\n",
       "4   ham                   Nah I don't think he goes to usf"
      ]
     },
     "execution_count": 24,
     "metadata": {},
     "output_type": "execute_result"
    }
   ],
   "source": [
    "datasms.head()"
   ]
  },
  {
   "cell_type": "code",
   "execution_count": 25,
   "metadata": {},
   "outputs": [
    {
     "data": {
      "text/html": [
       "<div>\n",
       "<style scoped>\n",
       "    .dataframe tbody tr th:only-of-type {\n",
       "        vertical-align: middle;\n",
       "    }\n",
       "\n",
       "    .dataframe tbody tr th {\n",
       "        vertical-align: top;\n",
       "    }\n",
       "\n",
       "    .dataframe thead th {\n",
       "        text-align: right;\n",
       "    }\n",
       "</style>\n",
       "<table border=\"1\" class=\"dataframe\">\n",
       "  <thead>\n",
       "    <tr style=\"text-align: right;\">\n",
       "      <th></th>\n",
       "      <th>class</th>\n",
       "      <th>text</th>\n",
       "    </tr>\n",
       "  </thead>\n",
       "  <tbody>\n",
       "    <tr>\n",
       "      <th>0</th>\n",
       "      <td>spam</td>\n",
       "      <td>&lt;table border=0 width=\"100%\" cellpadding=\"8\"  ...</td>\n",
       "    </tr>\n",
       "    <tr>\n",
       "      <th>1</th>\n",
       "      <td>spam</td>\n",
       "      <td>----2812957960422\\n\\nContent-Type: text/plain;...</td>\n",
       "    </tr>\n",
       "    <tr>\n",
       "      <th>2</th>\n",
       "      <td>spam</td>\n",
       "      <td>&lt;HTML&gt;&lt;FONT  SIZE=3D2 PTSIZE=3D10 FAMILY=3D\"SA...</td>\n",
       "    </tr>\n",
       "    <tr>\n",
       "      <th>3</th>\n",
       "      <td>spam</td>\n",
       "      <td>This is a MIME-encapsulated message\\n\\n\\n\\n--j...</td>\n",
       "    </tr>\n",
       "    <tr>\n",
       "      <th>4</th>\n",
       "      <td>ham</td>\n",
       "      <td>Bill,\\n\\n\\n\\nThese are currently being tested ...</td>\n",
       "    </tr>\n",
       "  </tbody>\n",
       "</table>\n",
       "</div>"
      ],
      "text/plain": [
       "  class                                               text\n",
       "0  spam  <table border=0 width=\"100%\" cellpadding=\"8\"  ...\n",
       "1  spam  ----2812957960422\\n\\nContent-Type: text/plain;...\n",
       "2  spam  <HTML><FONT  SIZE=3D2 PTSIZE=3D10 FAMILY=3D\"SA...\n",
       "3  spam  This is a MIME-encapsulated message\\n\\n\\n\\n--j...\n",
       "4   ham  Bill,\\n\\n\\n\\nThese are currently being tested ..."
      ]
     },
     "execution_count": 25,
     "metadata": {},
     "output_type": "execute_result"
    }
   ],
   "source": [
    "data.head()"
   ]
  },
  {
   "cell_type": "code",
   "execution_count": 26,
   "metadata": {},
   "outputs": [
    {
     "data": {
      "text/plain": [
       "(58910, 2)"
      ]
     },
     "execution_count": 26,
     "metadata": {},
     "output_type": "execute_result"
    }
   ],
   "source": [
    "data.shape"
   ]
  },
  {
   "cell_type": "markdown",
   "metadata": {},
   "source": [
    "Now we will merge both the dataset .i.e(\"EMAIL and SMS\") and perform our training on combined dataset"
   ]
  },
  {
   "cell_type": "code",
   "execution_count": 27,
   "metadata": {},
   "outputs": [],
   "source": [
    "data=data.append(datasms)"
   ]
  },
  {
   "cell_type": "code",
   "execution_count": 28,
   "metadata": {},
   "outputs": [
    {
     "data": {
      "text/plain": [
       "(64480, 2)"
      ]
     },
     "execution_count": 28,
     "metadata": {},
     "output_type": "execute_result"
    }
   ],
   "source": [
    "data.shape"
   ]
  },
  {
   "cell_type": "code",
   "execution_count": 24,
   "metadata": {},
   "outputs": [
    {
     "data": {
      "text/html": [
       "<div>\n",
       "<style scoped>\n",
       "    .dataframe tbody tr th:only-of-type {\n",
       "        vertical-align: middle;\n",
       "    }\n",
       "\n",
       "    .dataframe tbody tr th {\n",
       "        vertical-align: top;\n",
       "    }\n",
       "\n",
       "    .dataframe thead th {\n",
       "        text-align: right;\n",
       "    }\n",
       "</style>\n",
       "<table border=\"1\" class=\"dataframe\">\n",
       "  <thead>\n",
       "    <tr style=\"text-align: right;\">\n",
       "      <th></th>\n",
       "      <th>class</th>\n",
       "      <th>text</th>\n",
       "    </tr>\n",
       "  </thead>\n",
       "  <tbody>\n",
       "    <tr>\n",
       "      <th>0</th>\n",
       "      <td>spam</td>\n",
       "      <td>&lt;!DOCTYPE HTML PUBLIC \"-//W3C//DTD HTML 4.0 Tr...</td>\n",
       "    </tr>\n",
       "    <tr>\n",
       "      <th>1</th>\n",
       "      <td>ham</td>\n",
       "      <td>Attached please find March's curve validation ...</td>\n",
       "    </tr>\n",
       "    <tr>\n",
       "      <th>2</th>\n",
       "      <td>ham</td>\n",
       "      <td>Vince,\\n\\nIt was a pleasure to meet you last w...</td>\n",
       "    </tr>\n",
       "    <tr>\n",
       "      <th>3</th>\n",
       "      <td>ham</td>\n",
       "      <td>(See attached file: HPLN1103.xls)\\n\\n\\n\\n - HP...</td>\n",
       "    </tr>\n",
       "    <tr>\n",
       "      <th>4</th>\n",
       "      <td>ham</td>\n",
       "      <td>Attached are the Year-to-date closed deals thr...</td>\n",
       "    </tr>\n",
       "  </tbody>\n",
       "</table>\n",
       "</div>"
      ],
      "text/plain": [
       "  class                                               text\n",
       "0  spam  <!DOCTYPE HTML PUBLIC \"-//W3C//DTD HTML 4.0 Tr...\n",
       "1   ham  Attached please find March's curve validation ...\n",
       "2   ham  Vince,\\n\\nIt was a pleasure to meet you last w...\n",
       "3   ham  (See attached file: HPLN1103.xls)\\n\\n\\n\\n - HP...\n",
       "4   ham  Attached are the Year-to-date closed deals thr..."
      ]
     },
     "execution_count": 24,
     "metadata": {},
     "output_type": "execute_result"
    }
   ],
   "source": [
    "data.head()"
   ]
  },
  {
   "cell_type": "code",
   "execution_count": 25,
   "metadata": {},
   "outputs": [],
   "source": [
    "def token_count(row):\n",
    "    'returns token count'\n",
    "    text=row['tokenized_text']\n",
    "    length=len(text.split())\n",
    "    return length\n",
    "\n",
    "def tokenize(row):\n",
    "    \"tokenize the text using default space tokenizer\"\n",
    "    text=row['text']\n",
    "    lines=(line for line in text.split(NEWLINE) )\n",
    "    tokenized=\"\"\n",
    "    for sentence in lines:\n",
    "        tokenized+= \" \".join(tok for tok in sentence.split())\n",
    "    return tokenized"
   ]
  },
  {
   "cell_type": "markdown",
   "metadata": {},
   "source": [
    "# Tokenize function\n",
    "(1)It takes the row from dataset one by one using apply function                          \n",
    "(2)next the dext is extracted from text column and stored in text variable                       \n",
    "(3)It is splited based on newline .                                       \n",
    "(4)whole message is in one line now but in "
   ]
  },
  {
   "cell_type": "code",
   "execution_count": 26,
   "metadata": {},
   "outputs": [],
   "source": [
    "#data.iloc[4006]"
   ]
  },
  {
   "cell_type": "code",
   "execution_count": 27,
   "metadata": {},
   "outputs": [],
   "source": [
    "#data.iloc[0]"
   ]
  },
  {
   "cell_type": "code",
   "execution_count": 28,
   "metadata": {},
   "outputs": [],
   "source": [
    "data['tokenized_text']=data.apply(tokenize, axis=1)\n"
   ]
  },
  {
   "cell_type": "code",
   "execution_count": null,
   "metadata": {},
   "outputs": [],
   "source": []
  },
  {
   "cell_type": "code",
   "execution_count": 29,
   "metadata": {},
   "outputs": [],
   "source": [
    "data['token_count']=data.apply(token_count, axis=1)\n"
   ]
  },
  {
   "cell_type": "code",
   "execution_count": 30,
   "metadata": {},
   "outputs": [
    {
     "data": {
      "text/plain": [
       "Index(['class', 'text', 'tokenized_text', 'token_count'], dtype='object')"
      ]
     },
     "execution_count": 30,
     "metadata": {},
     "output_type": "execute_result"
    }
   ],
   "source": [
    "data.columns"
   ]
  },
  {
   "cell_type": "code",
   "execution_count": 31,
   "metadata": {},
   "outputs": [],
   "source": [
    "data.columns=['label', 'text', 'tokenized_text', 'token_count']"
   ]
  },
  {
   "cell_type": "code",
   "execution_count": 32,
   "metadata": {},
   "outputs": [],
   "source": [
    "#set(data.label)"
   ]
  },
  {
   "cell_type": "code",
   "execution_count": 33,
   "metadata": {},
   "outputs": [
    {
     "name": "stdout",
     "output_type": "stream",
     "text": [
      "total emails :  64480\n",
      "total spam emails :  36118\n",
      "total normal emails :  28362\n"
     ]
    }
   ],
   "source": [
    "df=data\n",
    "print(\"total emails : \", len(df))\n",
    "print  (\"total spam emails : \", len(df[df['label']=='spam']) )\n",
    "print  (\"total normal emails : \", len(df[df['label']=='ham']) )"
   ]
  },
  {
   "cell_type": "code",
   "execution_count": 34,
   "metadata": {},
   "outputs": [],
   "source": [
    "import numpy as np\n",
    "df.reset_index(inplace=True)\n",
    "df=df.reindex(np.random.permutation(df.index))"
   ]
  },
  {
   "cell_type": "code",
   "execution_count": 38,
   "metadata": {},
   "outputs": [
    {
     "data": {
      "text/html": [
       "<div>\n",
       "<style scoped>\n",
       "    .dataframe tbody tr th:only-of-type {\n",
       "        vertical-align: middle;\n",
       "    }\n",
       "\n",
       "    .dataframe tbody tr th {\n",
       "        vertical-align: top;\n",
       "    }\n",
       "\n",
       "    .dataframe thead th {\n",
       "        text-align: right;\n",
       "    }\n",
       "</style>\n",
       "<table border=\"1\" class=\"dataframe\">\n",
       "  <thead>\n",
       "    <tr style=\"text-align: right;\">\n",
       "      <th></th>\n",
       "      <th>index</th>\n",
       "      <th>label</th>\n",
       "      <th>text</th>\n",
       "      <th>tokenized_text</th>\n",
       "      <th>token_count</th>\n",
       "    </tr>\n",
       "  </thead>\n",
       "  <tbody>\n",
       "    <tr>\n",
       "      <th>9453</th>\n",
       "      <td>9453</td>\n",
       "      <td>ham</td>\n",
       "      <td>Louise,\\n\\nThe multiples have been updated.\\n\\...</td>\n",
       "      <td>Louise,The multiples have been updated.Thanks,...</td>\n",
       "      <td>5</td>\n",
       "    </tr>\n",
       "    <tr>\n",
       "      <th>26770</th>\n",
       "      <td>26770</td>\n",
       "      <td>spam</td>\n",
       "      <td>Saludos  &lt;p&gt;&lt;!DOCTYPE HTML PUBLIC \"-//W3C//DTD...</td>\n",
       "      <td>Saludos &lt;p&gt;&lt;!DOCTYPE HTML PUBLIC \"-//W3C//DTD ...</td>\n",
       "      <td>734</td>\n",
       "    </tr>\n",
       "    <tr>\n",
       "      <th>25220</th>\n",
       "      <td>25220</td>\n",
       "      <td>ham</td>\n",
       "      <td>Louise:\\n\\n\\n\\nI am NOT taking the P/L swings ...</td>\n",
       "      <td>Louise:I am NOT taking the P/L swings or fundi...</td>\n",
       "      <td>93</td>\n",
       "    </tr>\n",
       "    <tr>\n",
       "      <th>44912</th>\n",
       "      <td>44912</td>\n",
       "      <td>ham</td>\n",
       "      <td>Nick,\\n\\n\\n\\nWe may have problems getting the ...</td>\n",
       "      <td>Nick,We may have problems getting the VC locat...</td>\n",
       "      <td>132</td>\n",
       "    </tr>\n",
       "    <tr>\n",
       "      <th>54820</th>\n",
       "      <td>54820</td>\n",
       "      <td>spam</td>\n",
       "      <td>&lt;!DOCTYPE HTML PUBLIC \"-//W3C//DTD HTML 3.2//E...</td>\n",
       "      <td>&lt;!DOCTYPE HTML PUBLIC \"-//W3C//DTD HTML 3.2//E...</td>\n",
       "      <td>150</td>\n",
       "    </tr>\n",
       "  </tbody>\n",
       "</table>\n",
       "</div>"
      ],
      "text/plain": [
       "       index label                                               text  \\\n",
       "9453    9453   ham  Louise,\\n\\nThe multiples have been updated.\\n\\...   \n",
       "26770  26770  spam  Saludos  <p><!DOCTYPE HTML PUBLIC \"-//W3C//DTD...   \n",
       "25220  25220   ham  Louise:\\n\\n\\n\\nI am NOT taking the P/L swings ...   \n",
       "44912  44912   ham  Nick,\\n\\n\\n\\nWe may have problems getting the ...   \n",
       "54820  54820  spam  <!DOCTYPE HTML PUBLIC \"-//W3C//DTD HTML 3.2//E...   \n",
       "\n",
       "                                          tokenized_text  token_count  \n",
       "9453   Louise,The multiples have been updated.Thanks,...            5  \n",
       "26770  Saludos <p><!DOCTYPE HTML PUBLIC \"-//W3C//DTD ...          734  \n",
       "25220  Louise:I am NOT taking the P/L swings or fundi...           93  \n",
       "44912  Nick,We may have problems getting the VC locat...          132  \n",
       "54820  <!DOCTYPE HTML PUBLIC \"-//W3C//DTD HTML 3.2//E...          150  "
      ]
     },
     "execution_count": 38,
     "metadata": {},
     "output_type": "execute_result"
    }
   ],
   "source": [
    "df.head()"
   ]
  },
  {
   "cell_type": "code",
   "execution_count": 36,
   "metadata": {},
   "outputs": [
    {
     "name": "stdout",
     "output_type": "stream",
     "text": [
      "total emails for unseen test data :  10000\n",
      "\t total spam emails for enron  :  5590\n",
      "\t total normal emails for enron  :  4410\n",
      "\n",
      "total emails for model training/validation :  54480\n",
      "\t total spam emails for enron  :  30528\n",
      "\t total normal emails for enron  :  23952\n"
     ]
    }
   ],
   "source": [
    "len_unseen=10000\n",
    "df_unseen_test= df.iloc[:len_unseen]\n",
    "df_model = df.iloc[len_unseen:]\n",
    "\n",
    "print('total emails for unseen test data : ', len(df_unseen_test))\n",
    "print('\\t total spam emails for enron  : ', len(df_unseen_test[(df_unseen_test['label']=='spam')]))\n",
    "print('\\t total normal emails for enron  : ', len(df_unseen_test[ (df_unseen_test['label']=='ham')]))\n",
    "print()\n",
    "\n",
    "print('total emails for model training/validation : ', len(df_model))\n",
    "print('\\t total spam emails for enron  : ', len(df_model[(df_model['label']=='spam')]))\n",
    "print('\\t total normal emails for enron  : ', len(df_model[ (df_model['label']=='ham')]))"
   ]
  },
  {
   "cell_type": "code",
   "execution_count": 37,
   "metadata": {},
   "outputs": [
    {
     "name": "stderr",
     "output_type": "stream",
     "text": [
      "Using TensorFlow backend.\n"
     ]
    }
   ],
   "source": [
    "import keras\n",
    "\n",
    "from keras.layers import Input, Dense\n",
    "from keras.models import Model,load_model\n",
    "from keras.layers import Input, Dense\n",
    "from keras.models import Model\n",
    "from keras import regularizers\n",
    "\n",
    "from keras.preprocessing.text import Tokenizer\n",
    "from keras.models import Sequential\n",
    "from keras.layers import Dense, Dropout, Activation\n",
    "from keras.callbacks import ModelCheckpoint, TensorBoard\n",
    "import sklearn\n",
    "from sklearn import metrics\n",
    "from sklearn import svm\n",
    "from sklearn.externals import joblib\n",
    "from sklearn.preprocessing import LabelEncoder\n",
    "import tensorflow as tf"
   ]
  },
  {
   "cell_type": "code",
   "execution_count": 39,
   "metadata": {},
   "outputs": [],
   "source": [
    "num_max = 4000\n",
    "import time"
   ]
  },
  {
   "cell_type": "code",
   "execution_count": 40,
   "metadata": {},
   "outputs": [],
   "source": [
    "def train_tf_idf_model(texts):\n",
    "    \"train tf idf model \"\n",
    "    tic = time.process_time()\n",
    "    \n",
    "\n",
    "    tok = Tokenizer(num_words=num_max)\n",
    "    tok.fit_on_texts(texts)\n",
    "    print(list(tok.word_index.values())[0])\n",
    "    toc = time.process_time()\n",
    "\n",
    "    print (\" -----total Computation time = \" + str((toc - tic)) + \" seconds\")\n",
    "    return tok\n",
    "\n",
    "\n",
    "def prepare_model_input(tfidf_model,dataframe,mode='tfidf'):\n",
    "    \n",
    "    \"function to prepare data input features using tfidf model\"\n",
    "    tic = time.process_time()\n",
    "    \n",
    "    le = LabelEncoder()\n",
    "    sample_texts = list(dataframe['tokenized_text'])\n",
    "    sample_texts = [' '.join(x.split()) for x in sample_texts]\n",
    "    print(\"conversion : \",sample_texts[:1])\n",
    "    \n",
    "    targets=list(dataframe['label'])\n",
    "    targets = [1. if x=='spam' else 0. for x in targets]\n",
    "    sample_target = le.fit_transform(targets)\n",
    "    \n",
    "    if mode=='tfidf':\n",
    "        sample_texts=tfidf_model.texts_to_matrix(sample_texts,mode='tfidf')\n",
    "    else:\n",
    "        sample_texts=tfidf_model.texts_to_matrix(sample_texts)\n",
    "    \n",
    "    print(\"after tfidf : \",sample_texts[:1])\n",
    "    toc = time.process_time()\n",
    "    \n",
    "    print('shape of labels: ', sample_target.shape)\n",
    "    print('shape of data: ', sample_texts.shape)\n",
    "    \n",
    "    print (\" -----total Computation time for preparing model data = \" + str((toc - tic)) + \" seconds\")\n",
    "    \n",
    "    #return sample_texts\n",
    "    return sample_texts,sample_target"
   ]
  },
  {
   "cell_type": "code",
   "execution_count": 41,
   "metadata": {},
   "outputs": [
    {
     "name": "stdout",
     "output_type": "stream",
     "text": [
      "1\n",
      " -----total Computation time = 14.78125 seconds\n"
     ]
    }
   ],
   "source": [
    "texts=list(df_model['tokenized_text'])\n",
    "tfidf_model=train_tf_idf_model(texts)"
   ]
  },
  {
   "cell_type": "code",
   "execution_count": 42,
   "metadata": {},
   "outputs": [
    {
     "data": {
      "text/plain": [
       "<keras_preprocessing.text.Tokenizer at 0x20c5a1e0d68>"
      ]
     },
     "execution_count": 42,
     "metadata": {},
     "output_type": "execute_result"
    }
   ],
   "source": [
    "tfidf_model"
   ]
  },
  {
   "cell_type": "code",
   "execution_count": 43,
   "metadata": {},
   "outputs": [
    {
     "name": "stdout",
     "output_type": "stream",
     "text": [
      "conversion :  ['<html><body text=3D\"#FFFFFF\" bgcolor=3D\"#FFFFFF\" link=3D\"#FF0000\" =vlink=3D\"#FF0000\" alink=3D\"#00CC00\">=20<center><table BORDER=3D0 CELLSPACING=3D0 COLS=3D1 WIDTH=3D\"80%\" ><tr><td><font face=3D\"Verdana\" size=3D\"-1\"><font color=3D\"#3333FF\">As =seen on NBC,=20CBS, and CNN, and even Oprah!</font><font color=3D\"#000000\"> The =health</font></font>=20<br><font face=3D\"Verdana\" color=3D\"#000000\" size=3D\"-1\">discovery =that actually=20rev</aol>erses ag</aol>ing while bur</aol>ning f</aol>at,</font> =<br><font face=3D\"Verdana\" color=3D\"#000000\" size=3D\"-1\">without =dieting or exercise!=20This proven dis</aol>covery has even</font> <br><font face=3D\"Verdana\" color=3D\"#000000\" size=3D\"-1\">been =rep</aol>orted on by major=20Sci</aol>ence Jou</aol>rnals.</font> <br><font face=3D\"Verdana\" size=3D\"-1\"><font =color=3D\"#000000\">Fo</aol>rget a</aol>ging and=20di</aol>eting fo</aol>rever! </font><font color=3D\"#3366FF\">And =It\\'s Gua</aol>ranteed!</font></font>=20<br>=20<p><font face=3D\"Verdana\" size=3D\"-1\"><font =color=3D\"#3333FF\">*</font><font color=3D\"#000000\">=20Reduce body fat and build lean muscle WITHOUT =EXERCISE!</font></font>=20<br><font face=3D\"Verdana\" size=3D\"-1\"><font =color=3D\"#3333FF\">*</font><font color=3D\"#000000\">=20Enhance sexual performance</font></font> <br><font face=3D\"Verdana\" size=3D\"-1\"><font =color=3D\"#3333FF\">*</font><font color=3D\"#000000\">=20Remove wrinkles and cellulite</font></font> <br><font face=3D\"Verdana\" size=3D\"-1\"><font =color=3D\"#3333FF\">*</font><font color=3D\"#000000\">=20Lower blood pressure and improve cholesterol =profile</font></font> <br><font face=3D\"Verdana\" size=3D\"-1\"><font =color=3D\"#3333FF\">*</font><font color=3D\"#000000\">=20Improve sleep, vision and memory</font></font> <br><font face=3D\"Verdana\" size=3D\"-1\"><font =color=3D\"#3333FF\">*</font><font color=3D\"#000000\">=20Restore hair color and growth</font></font> <br><font face=3D\"Verdana\" size=3D\"-1\"><font =color=3D\"#3333FF\">*</font><font color=3D\"#000000\">=20Strengthen the immune system</font></font> <br><font face=3D\"Verdana\" size=3D\"-1\"><font =color=3D\"#3333FF\">*</font><font color=3D\"#000000\">=20Increase energy and cardiac output</font></font> <br><font face=3D\"Verdana\" size=3D\"-1\"><font =color=3D\"#3333FF\">*</font><font color=3D\"#000000\">=20Turn back your body\\'s biological clock 10-20 years in 6 =months!!!</font></font>=20=20<p><b><font face=3D\"Verdana\" color=3D\"#000000\"><a href=3D\"http://androuji.com/4/6/index.php?ai=3D7126\">Shop here for =HGH</a></b> <br><br><br><br><br><br>Smart Way to lo</aol>se the wei</aol>ght!<br>Revolu</aol>tionary Di</aol>et Pa</aol>tch<br>N</aol>o Pi</aol>lls<br>N</aol>o Ex</aol>ercise<br>N</aol>o Starving<br>Na</aol>tural and S</aol>afe <br>Guar</aol>anteed Re</aol>sults <br>Lo</aol>se 3 to 8 po</aol>unds each week <br>Increased En</aol>ergy <br>Decreased Food Cravings <br>Boosted Met</aol>abolism <br>It Wo</aol>rks!<br><br><a href=3D\"http://androuji.com/4/8/index.php?ai=3D7126\"><b>Sh</aol>op =here for Di</aol>et Pa</aol>tch</b></a></font><br>=20<br>=20<br>=20<br>=20<br>=20<br>=20<BR><BR><BR><BR><BR><BR><BR><div align=3D\"center\"><table width=3D\"573\" cellspacing=3D\"0\" cellpadding=3D\"5\" border=3D\"1\" =bordercolor=3D\"#000000\" style=3D\"border-collapse:collapse\"><tr>=20<td bgcolor=3D\"#ffffff\">=20<p><span style=3D\"font-family:arial; color:#666666; =font-size:10px;\">Why=20was this em</aol>ail sent to y</aol>ou? At some point you =reg</aol>istered or made a pu</aol>rchase=20on a Web site with pr</aol>ivacy po</aol>licies =exp</aol>laining that they may share your=20inf</aol>ormation with partners who will send you =va</aol>luable of</aol>fers from time=20to time. </span></p><p><span style=3D\"font-family:arial; color:#666666; =font-size:10px;\">If=20you no longer wish to be not</aol>ified of the latest =scien</aol>tific breakth</aol>roughs=20or val</aol>uable of</aol>fers, you may simply choose to take =yourself out of the=20database per</aol>manently by<a href=3D\"http://drmin.com/4/unsub\">cho</aol>osing this =li</aol>nk</a>.</span></p></td></tr></table></div></table></center></body></html>']\n",
      "after tfidf :  [[0.         7.52550022 8.00746258 ... 0.         0.         0.        ]]\n",
      "shape of labels:  (54480,)\n",
      "shape of data:  (54480, 4000)\n",
      " -----total Computation time for preparing model data = 32.40625 seconds\n"
     ]
    }
   ],
   "source": [
    "mat_texts,tags=prepare_model_input(tfidf_model,df_model,mode='tfidf')\n"
   ]
  },
  {
   "cell_type": "code",
   "execution_count": 44,
   "metadata": {},
   "outputs": [
    {
     "name": "stdout",
     "output_type": "stream",
     "text": [
      "train data shape:  (46308, 4000) (46308,)\n",
      "validation data shape : (8172, 4000) (8172,)\n"
     ]
    }
   ],
   "source": [
    "from sklearn.model_selection import train_test_split\n",
    "\n",
    "X_train, X_val, y_train, y_val = train_test_split(mat_texts, tags, test_size=0.15)\n",
    "print ('train data shape: ', X_train.shape, y_train.shape)\n",
    "print ('validation data shape :' , X_val.shape, y_val.shape)"
   ]
  },
  {
   "cell_type": "code",
   "execution_count": 45,
   "metadata": {},
   "outputs": [],
   "source": [
    "model_save_path=\"checkpoints/spam_detector_enron_model.h5\"\n"
   ]
  },
  {
   "cell_type": "code",
   "execution_count": 46,
   "metadata": {},
   "outputs": [],
   "source": [
    "import tensorflow as tf"
   ]
  },
  {
   "cell_type": "code",
   "execution_count": 60,
   "metadata": {},
   "outputs": [],
   "source": [
    "def get_simple_model():\n",
    "    model = Sequential()\n",
    "    model.add(Dense(512, activation='relu', input_shape=(num_max,)))\n",
    "    model.add(Dropout(0.5))\n",
    "    model.add(Dense(256, activation='relu'))\n",
    "    model.add(Dropout(0.5))\n",
    "    model.add(Dense(1, activation='sigmoid'))\n",
    "    model.summary()\n",
    "    model.compile(loss='binary_crossentropy',\n",
    "              optimizer='adam',\n",
    "              metrics=['acc',keras.metrics.binary_accuracy])\n",
    "    print('compile done')\n",
    "    return model\n",
    "\n",
    "def check_model(model,x,y,epochs=2):\n",
    "    history=model.fit(x,y,batch_size=32,epochs=epochs,verbose=1,shuffle=True,validation_split=0.2,\n",
    "              callbacks=[checkpointer, tensorboard]).history\n",
    "    return history\n",
    "\n",
    "\n",
    "def check_model2(model,x_train,y_train,x_val,y_val,epochs=4):\n",
    "    history=model.fit(x_train,y_train,batch_size=64,\n",
    "                      epochs=epochs,verbose=1,\n",
    "                      shuffle=True,\n",
    "                    validation_data=(x_val, y_val),\n",
    "                      callbacks=[checkpointer, tensorboard]).history\n",
    "    frozen_graph = freeze_session(keras.backend.get_session(), output_names=[out.op.name for out in model.outputs])\n",
    "    tf.train.write_graph(frozen_graph, './', 'xor.pbtxt', as_text=True)\n",
    "    tf.train.write_graph(frozen_graph, './', 'xor.pb', as_text=False)\n",
    "    return history\n",
    "\n",
    "# define checkpointer\n",
    "checkpointer = ModelCheckpoint(filepath=model_save_path,\n",
    "                               verbose=1,\n",
    "                               save_best_only=True)    \n",
    "\n",
    "\n",
    "# define tensorboard\n",
    "tensorboard = TensorBoard(log_dir='./logs',\n",
    "                          histogram_freq=0,\n",
    "                          write_graph=True,\n",
    "                          write_images=True)\n",
    "\n",
    "def freeze_session(session, keep_var_names=None, output_names=None, clear_devices=True):\n",
    "    \"\"\"\n",
    "    Freezes the state of a session into a pruned computation graph.\n",
    "\n",
    "    Creates a new computation graph where variable nodes are replaced by\n",
    "    constants taking their current value in the session. The new graph will be\n",
    "    pruned so subgraphs that are not necessary to compute the requested\n",
    "    outputs are removed.\n",
    "    @param session The TensorFlow session to be frozen.\n",
    "    @param keep_var_names A list of variable names that should not be frozen,\n",
    "                          or None to freeze all the variables in the graph.\n",
    "    @param output_names Names of the relevant graph outputs.\n",
    "    @param clear_devices Remove the device directives from the graph for better portability.\n",
    "    @return The frozen graph definition.\n",
    "    \"\"\"\n",
    "    graph = session.graph\n",
    "    with graph.as_default():\n",
    "        freeze_var_names = list(set(v.op.name for v in tf.global_variables()).difference(keep_var_names or []))\n",
    "        output_names = output_names or []\n",
    "        output_names += [v.op.name for v in tf.global_variables()]\n",
    "        input_graph_def = graph.as_graph_def()\n",
    "        if clear_devices:\n",
    "            for node in input_graph_def.node:\n",
    "                node.device = \"\"\n",
    "        frozen_graph = tf.graph_util.convert_variables_to_constants(\n",
    "            session, input_graph_def, output_names, freeze_var_names)\n",
    "        return frozen_graph\n",
    "from keras import backend as K\n",
    "\n",
    "# Create, compile and train model...\n",
    "\n",
    "\n",
    "\n",
    "# define the predict function for the deep learning model for later use\n",
    "def predict(data):\n",
    "    result=spam_model_dl.predict(data)\n",
    "    prediction = [round(x[0]) for x in result]\n",
    "    return prediction"
   ]
  },
  {
   "cell_type": "code",
   "execution_count": null,
   "metadata": {},
   "outputs": [],
   "source": []
  },
  {
   "cell_type": "code",
   "execution_count": 70,
   "metadata": {},
   "outputs": [
    {
     "name": "stdout",
     "output_type": "stream",
     "text": [
      "_________________________________________________________________\n",
      "Layer (type)                 Output Shape              Param #   \n",
      "=================================================================\n",
      "dense_19 (Dense)             (None, 512)               2048512   \n",
      "_________________________________________________________________\n",
      "dropout_13 (Dropout)         (None, 512)               0         \n",
      "_________________________________________________________________\n",
      "dense_20 (Dense)             (None, 256)               131328    \n",
      "_________________________________________________________________\n",
      "dropout_14 (Dropout)         (None, 256)               0         \n",
      "_________________________________________________________________\n",
      "dense_21 (Dense)             (None, 1)                 257       \n",
      "=================================================================\n",
      "Total params: 2,180,097\n",
      "Trainable params: 2,180,097\n",
      "Non-trainable params: 0\n",
      "_________________________________________________________________\n",
      "compile done\n",
      "Train on 46308 samples, validate on 8172 samples\n",
      "Epoch 1/24\n",
      "46308/46308 [==============================] - 7s 160us/step - loss: 0.1170 - acc: 0.9712 - binary_accuracy: 0.9712 - val_loss: 0.0876 - val_acc: 0.9843 - val_binary_accuracy: 0.9843\n",
      "\n",
      "Epoch 00001: val_loss did not improve from 0.05047\n",
      "Epoch 2/24\n",
      "46308/46308 [==============================] - 7s 157us/step - loss: 0.0541 - acc: 0.9874 - binary_accuracy: 0.9874 - val_loss: 0.0454 - val_acc: 0.9880 - val_binary_accuracy: 0.9880\n",
      "\n",
      "Epoch 00002: val_loss improved from 0.05047 to 0.04536, saving model to checkpoints/spam_detector_enron_model.h5\n",
      "Epoch 3/24\n",
      "46308/46308 [==============================] - 7s 147us/step - loss: 0.0326 - acc: 0.9921 - binary_accuracy: 0.9921 - val_loss: 0.0487 - val_acc: 0.9883 - val_binary_accuracy: 0.9883oss: 0.0325 - acc: 0.9922 - bin - ETA: 0s - loss: 0.0323 - acc: 0.9922 - binary_accuracy: 0.9\n",
      "\n",
      "Epoch 00003: val_loss did not improve from 0.04536\n",
      "Epoch 4/24\n",
      "46308/46308 [==============================] - 7s 150us/step - loss: 0.0300 - acc: 0.9927 - binary_accuracy: 0.9927 - val_loss: 0.0584 - val_acc: 0.9886 - val_binary_accuracy: 0.9886\n",
      "\n",
      "Epoch 00004: val_loss did not improve from 0.04536\n",
      "Epoch 5/24\n",
      "46308/46308 [==============================] - 7s 149us/step - loss: 0.0275 - acc: 0.9939 - binary_accuracy: 0.9939 - val_loss: 0.0527 - val_acc: 0.9895 - val_binary_accuracy: 0.9895\n",
      "\n",
      "Epoch 00005: val_loss did not improve from 0.04536\n",
      "Epoch 6/24\n",
      "46308/46308 [==============================] - 7s 150us/step - loss: 0.0226 - acc: 0.9952 - binary_accuracy: 0.9952 - val_loss: 0.0595 - val_acc: 0.9891 - val_binary_accuracy: 0.9891\n",
      "\n",
      "Epoch 00006: val_loss did not improve from 0.04536\n",
      "Epoch 7/24\n",
      "46308/46308 [==============================] - 7s 152us/step - loss: 0.0217 - acc: 0.9949 - binary_accuracy: 0.9949 - val_loss: 0.0755 - val_acc: 0.9873 - val_binary_accuracy: 0.9873\n",
      "\n",
      "Epoch 00007: val_loss did not improve from 0.04536\n",
      "Epoch 8/24\n",
      "46308/46308 [==============================] - 7s 155us/step - loss: 0.0193 - acc: 0.9952 - binary_accuracy: 0.9952 - val_loss: 0.0629 - val_acc: 0.9900 - val_binary_accuracy: 0.9900\n",
      "\n",
      "Epoch 00008: val_loss did not improve from 0.04536\n",
      "Epoch 9/24\n",
      "46308/46308 [==============================] - 7s 153us/step - loss: 0.0171 - acc: 0.9957 - binary_accuracy: 0.9957 - val_loss: 0.0680 - val_acc: 0.9887 - val_binary_accuracy: 0.98870158 \n",
      "\n",
      "Epoch 00009: val_loss did not improve from 0.04536\n",
      "Epoch 10/24\n",
      "46308/46308 [==============================] - 7s 149us/step - loss: 0.0128 - acc: 0.9966 - binary_accuracy: 0.9966 - val_loss: 0.0593 - val_acc: 0.9902 - val_binary_accuracy: 0.9902\n",
      "\n",
      "Epoch 00010: val_loss did not improve from 0.04536\n",
      "Epoch 11/24\n",
      "46308/46308 [==============================] - 7s 151us/step - loss: 0.0133 - acc: 0.9961 - binary_accuracy: 0.9961 - val_loss: 0.0640 - val_acc: 0.9901 - val_binary_accuracy: 0.9901\n",
      "\n",
      "Epoch 00011: val_loss did not improve from 0.04536\n",
      "Epoch 12/24\n",
      "46308/46308 [==============================] - 7s 152us/step - loss: 0.0177 - acc: 0.9960 - binary_accuracy: 0.9960 - val_loss: 0.0731 - val_acc: 0.9881 - val_binary_accuracy: 0.9881\n",
      "\n",
      "Epoch 00012: val_loss did not improve from 0.04536\n",
      "Epoch 13/24\n",
      "46308/46308 [==============================] - 7s 146us/step - loss: 0.0201 - acc: 0.9960 - binary_accuracy: 0.9960 - val_loss: 0.0730 - val_acc: 0.9897 - val_binary_accuracy: 0.9897\n",
      "\n",
      "Epoch 00013: val_loss did not improve from 0.04536\n",
      "Epoch 14/24\n",
      "46308/46308 [==============================] - 7s 149us/step - loss: 0.0230 - acc: 0.9956 - binary_accuracy: 0.9956 - val_loss: 0.1096 - val_acc: 0.9868 - val_binary_accuracy: 0.9868s: 0.0215 - acc: 0.9957 - binary_accura - ETA: 2s - loss: 0.0221 - a\n",
      "\n",
      "Epoch 00014: val_loss did not improve from 0.04536\n",
      "Epoch 15/24\n",
      "46308/46308 [==============================] - 7s 149us/step - loss: 0.0194 - acc: 0.9961 - binary_accuracy: 0.9961 - val_loss: 0.1188 - val_acc: 0.9874 - val_binary_accuracy: 0.9874\n",
      "\n",
      "Epoch 00015: val_loss did not improve from 0.04536\n",
      "Epoch 16/24\n",
      "46308/46308 [==============================] - 7s 152us/step - loss: 0.0312 - acc: 0.9948 - binary_accuracy: 0.9948 - val_loss: 0.0871 - val_acc: 0.9896 - val_binary_accuracy: 0.9896\n",
      "\n",
      "Epoch 00016: val_loss did not improve from 0.04536\n",
      "Epoch 17/24\n",
      "46308/46308 [==============================] - 7s 151us/step - loss: 0.0202 - acc: 0.9957 - binary_accuracy: 0.9957 - val_loss: 0.0954 - val_acc: 0.9889 - val_binary_accuracy: 0.9889\n",
      "\n",
      "Epoch 00017: val_loss did not improve from 0.04536\n",
      "Epoch 18/24\n",
      "46308/46308 [==============================] - 7s 152us/step - loss: 0.0197 - acc: 0.9960 - binary_accuracy: 0.9960 - val_loss: 0.1310 - val_acc: 0.9854 - val_binary_accuracy: 0.9854\n",
      "\n",
      "Epoch 00018: val_loss did not improve from 0.04536\n",
      "Epoch 19/24\n",
      "46308/46308 [==============================] - 7s 157us/step - loss: 0.0149 - acc: 0.9965 - binary_accuracy: 0.9965 - val_loss: 0.1028 - val_acc: 0.9892 - val_binary_accuracy: 0.9892\n",
      "\n",
      "Epoch 00019: val_loss did not improve from 0.04536\n",
      "Epoch 20/24\n",
      "46308/46308 [==============================] - 7s 145us/step - loss: 0.0156 - acc: 0.9966 - binary_accuracy: 0.9966 - val_loss: 0.0978 - val_acc: 0.9897 - val_binary_accuracy: 0.9897ss: 0. - ETA: 0s - loss: 0.0160 - acc: 0.9965 - binary_accuracy:  - ETA: 0s - loss: 0.0157 - acc: 0.9966 - binary_accurac\n",
      "\n",
      "Epoch 00020: val_loss did not improve from 0.04536\n",
      "Epoch 21/24\n",
      "46308/46308 [==============================] - 7s 145us/step - loss: 0.0164 - acc: 0.9965 - binary_accuracy: 0.9965 - val_loss: 0.1046 - val_acc: 0.9889 - val_binary_accuracy: 0.9889\n",
      "\n",
      "Epoch 00021: val_loss did not improve from 0.04536\n",
      "Epoch 22/24\n",
      "46308/46308 [==============================] - 7s 144us/step - loss: 0.0133 - acc: 0.9969 - binary_accuracy: 0.9969 - val_loss: 0.0993 - val_acc: 0.9896 - val_binary_accuracy: 0.9896y_accuracy:  - ETA: 2s - loss: 0.0132 - acc:\n",
      "\n",
      "Epoch 00022: val_loss did not improve from 0.04536\n",
      "Epoch 23/24\n",
      "46308/46308 [==============================] - 7s 142us/step - loss: 0.0147 - acc: 0.9969 - binary_accuracy: 0.9969 - val_loss: 0.0962 - val_acc: 0.9901 - val_binary_accuracy: 0.9901\n",
      "\n",
      "Epoch 00023: val_loss did not improve from 0.04536\n",
      "Epoch 24/24\n",
      "46308/46308 [==============================] - 7s 147us/step - loss: 0.0103 - acc: 0.9973 - binary_accuracy: 0.9973 - val_loss: 0.1023 - val_acc: 0.9895 - val_binary_accuracy: 0.9895\n",
      "\n",
      "Epoch 00024: val_loss did not improve from 0.04536\n",
      "INFO:tensorflow:Froze 203 variables.\n",
      "INFO:tensorflow:Converted 203 variables to const ops.\n"
     ]
    }
   ],
   "source": [
    "model = get_simple_model()\n",
    "#    history=model.fit(x_train,y_train,batch_size=64,\n",
    "#   epochs=epochs,verbose=1,shuffle=True,validation_data=(x_val, y_val),callbacks=[checkpointer, tensorboard]).history\n",
    "\n",
    "# load history\n",
    "# history=check_model(m,mat_texts,tags,epochs=10)\n",
    "history=check_model2(model,X_train,y_train,X_val,y_val,epochs=24)\n",
    "\n"
   ]
  },
  {
   "cell_type": "code",
   "execution_count": 71,
   "metadata": {},
   "outputs": [
    {
     "data": {
      "image/png": "[encoded data removed]",
      "text/plain": [
       "<Figure size 432x288 with 1 Axes>"
      ]
     },
     "metadata": {
      "needs_background": "light"
     },
     "output_type": "display_data"
    }
   ],
   "source": [
    "import matplotlib.pyplot as plt\n",
    "plt.plot(history['loss'])\n",
    "plt.plot(history['val_loss'])\n",
    "plt.title('Email Spam Filter Model loss')\n",
    "plt.ylabel('loss')\n",
    "plt.xlabel('epoch')\n",
    "plt.legend(['train', 'test'], loc='upper right');"
   ]
  },
  {
   "cell_type": "code",
   "execution_count": 58,
   "metadata": {},
   "outputs": [
    {
     "data": {
      "image/png": "[encoded data removed]",
      "text/plain": [
       "<Figure size 432x288 with 1 Axes>"
      ]
     },
     "metadata": {
      "needs_background": "light"
     },
     "output_type": "display_data"
    }
   ],
   "source": [
    "import matplotlib.pyplot as plt\n",
    "plt.plot(history['loss'])\n",
    "plt.plot(history['val_loss'])\n",
    "plt.title('Email Spam Filter Model loss')\n",
    "plt.ylabel('loss')\n",
    "plt.xlabel('epoch')\n",
    "plt.legend(['train', 'test'], loc='upper right');"
   ]
  },
  {
   "cell_type": "code",
   "execution_count": 59,
   "metadata": {},
   "outputs": [
    {
     "ename": "TypeError",
     "evalue": "'History' object is not subscriptable",
     "output_type": "error",
     "traceback": [
      "\u001b[1;31m---------------------------------------------------------------------------\u001b[0m",
      "\u001b[1;31mTypeError\u001b[0m                                 Traceback (most recent call last)",
      "\u001b[1;32m<ipython-input-59-b66cbe53d9b5>\u001b[0m in \u001b[0;36m<module>\u001b[1;34m\u001b[0m\n\u001b[0;32m      1\u001b[0m \u001b[1;32mimport\u001b[0m \u001b[0mmatplotlib\u001b[0m\u001b[1;33m.\u001b[0m\u001b[0mpyplot\u001b[0m \u001b[1;32mas\u001b[0m \u001b[0mplt\u001b[0m\u001b[1;33m\u001b[0m\u001b[1;33m\u001b[0m\u001b[0m\n\u001b[1;32m----> 2\u001b[1;33m \u001b[0mplt\u001b[0m\u001b[1;33m.\u001b[0m\u001b[0mplot\u001b[0m\u001b[1;33m(\u001b[0m\u001b[0mhistory\u001b[0m\u001b[1;33m[\u001b[0m\u001b[1;34m'loss'\u001b[0m\u001b[1;33m]\u001b[0m\u001b[1;33m)\u001b[0m\u001b[1;33m\u001b[0m\u001b[1;33m\u001b[0m\u001b[0m\n\u001b[0m\u001b[0;32m      3\u001b[0m \u001b[0mplt\u001b[0m\u001b[1;33m.\u001b[0m\u001b[0mplot\u001b[0m\u001b[1;33m(\u001b[0m\u001b[0mhistory\u001b[0m\u001b[1;33m[\u001b[0m\u001b[1;34m'val_loss'\u001b[0m\u001b[1;33m]\u001b[0m\u001b[1;33m)\u001b[0m\u001b[1;33m\u001b[0m\u001b[1;33m\u001b[0m\u001b[0m\n\u001b[0;32m      4\u001b[0m \u001b[0mplt\u001b[0m\u001b[1;33m.\u001b[0m\u001b[0mtitle\u001b[0m\u001b[1;33m(\u001b[0m\u001b[1;34m'Email Spam Filter Model loss'\u001b[0m\u001b[1;33m)\u001b[0m\u001b[1;33m\u001b[0m\u001b[1;33m\u001b[0m\u001b[0m\n\u001b[0;32m      5\u001b[0m \u001b[0mplt\u001b[0m\u001b[1;33m.\u001b[0m\u001b[0mylabel\u001b[0m\u001b[1;33m(\u001b[0m\u001b[1;34m'loss'\u001b[0m\u001b[1;33m)\u001b[0m\u001b[1;33m\u001b[0m\u001b[1;33m\u001b[0m\u001b[0m\n",
      "\u001b[1;31mTypeError\u001b[0m: 'History' object is not subscriptable"
     ]
    }
   ],
   "source": [
    "import matplotlib.pyplot as plt\n",
    "plt.plot(history['loss'])\n",
    "plt.plot(history['val_loss'])\n",
    "plt.title('Email Spam Filter Model loss')\n",
    "plt.ylabel('loss')\n",
    "plt.xlabel('epoch')\n",
    "plt.legend(['train', 'test'], loc='upper right');"
   ]
  },
  {
   "cell_type": "code",
   "execution_count": null,
   "metadata": {},
   "outputs": [],
   "source": []
  },
  {
   "cell_type": "code",
   "execution_count": 64,
   "metadata": {},
   "outputs": [
    {
     "name": "stdout",
     "output_type": "stream",
     "text": [
      "conversion :  ['The memo distributed on June 27 on Reimbursement of Individually Billed Itemsrequiresclarification. The intent of the memo was to give employees an alternatemethodof paying for pagers, cell phones, etc. Employees can continue to submittheseinvoices to Accounts Payable for processing or pay these items with theircorporateAmerican Express card and request reimbursement through an expense report.Eitherway is an acceptable way to process these small dollar high volume invoices.']\n",
      "after tfidf :  [[0. 0. 0. ... 0. 0. 0.]]\n",
      "shape of labels:  (10000,)\n",
      "shape of data:  (10000, 4000)\n",
      " -----total Computation time for preparing model data = 9.125 seconds\n"
     ]
    },
    {
     "ename": "ValueError",
     "evalue": "too many values to unpack (expected 2)",
     "output_type": "error",
     "traceback": [
      "\u001b[1;31m---------------------------------------------------------------------------\u001b[0m",
      "\u001b[1;31mValueError\u001b[0m                                Traceback (most recent call last)",
      "\u001b[1;32m<ipython-input-64-3d3361269115>\u001b[0m in \u001b[0;36m<module>\u001b[1;34m\u001b[0m\n\u001b[1;32m----> 1\u001b[1;33m \u001b[0msample_texts\u001b[0m\u001b[1;33m,\u001b[0m\u001b[0msample_target\u001b[0m\u001b[1;33m=\u001b[0m\u001b[0mprepare_model_input\u001b[0m\u001b[1;33m(\u001b[0m\u001b[0mtfidf_model\u001b[0m\u001b[1;33m,\u001b[0m\u001b[0mdf_unseen_test\u001b[0m\u001b[1;33m,\u001b[0m\u001b[0mmode\u001b[0m\u001b[1;33m=\u001b[0m\u001b[1;34m''\u001b[0m\u001b[1;33m)\u001b[0m\u001b[1;33m\u001b[0m\u001b[1;33m\u001b[0m\u001b[0m\n\u001b[0m",
      "\u001b[1;31mValueError\u001b[0m: too many values to unpack (expected 2)"
     ]
    }
   ],
   "source": [
    "sample_texts,sample_target=prepare_model_input(tfidf_model,df_unseen_test,mode='')"
   ]
  },
  {
   "cell_type": "code",
   "execution_count": 66,
   "metadata": {},
   "outputs": [
    {
     "data": {
      "text/html": [
       "<div>\n",
       "<style scoped>\n",
       "    .dataframe tbody tr th:only-of-type {\n",
       "        vertical-align: middle;\n",
       "    }\n",
       "\n",
       "    .dataframe tbody tr th {\n",
       "        vertical-align: top;\n",
       "    }\n",
       "\n",
       "    .dataframe thead th {\n",
       "        text-align: right;\n",
       "    }\n",
       "</style>\n",
       "<table border=\"1\" class=\"dataframe\">\n",
       "  <thead>\n",
       "    <tr style=\"text-align: right;\">\n",
       "      <th></th>\n",
       "      <th>index</th>\n",
       "      <th>label</th>\n",
       "      <th>text</th>\n",
       "      <th>tokenized_text</th>\n",
       "      <th>token_count</th>\n",
       "    </tr>\n",
       "  </thead>\n",
       "  <tbody>\n",
       "    <tr>\n",
       "      <th>49555</th>\n",
       "      <td>49555</td>\n",
       "      <td>ham</td>\n",
       "      <td>The memo distributed on June 27 on Reimburseme...</td>\n",
       "      <td>The memo distributed on June 27 on Reimburseme...</td>\n",
       "      <td>66</td>\n",
       "    </tr>\n",
       "    <tr>\n",
       "      <th>38491</th>\n",
       "      <td>38491</td>\n",
       "      <td>spam</td>\n",
       "      <td>&lt;html&gt;\\n\\n&lt;head&gt;\\n\\n&lt;/head&gt;\\n\\n&lt;body bgcolor=\"...</td>\n",
       "      <td>&lt;html&gt;&lt;head&gt;&lt;/head&gt;&lt;body bgcolor=\"#FFFFFF\"&gt;&lt;b&gt;...</td>\n",
       "      <td>47</td>\n",
       "    </tr>\n",
       "    <tr>\n",
       "      <th>62332</th>\n",
       "      <td>3422</td>\n",
       "      <td>spam</td>\n",
       "      <td>Welcome! Please reply with your AGE and GENDER...</td>\n",
       "      <td>Welcome! Please reply with your AGE and GENDER...</td>\n",
       "      <td>12</td>\n",
       "    </tr>\n",
       "    <tr>\n",
       "      <th>53677</th>\n",
       "      <td>53677</td>\n",
       "      <td>spam</td>\n",
       "      <td>\\n\\n&lt;html&gt;\\n\\n&lt;/head&gt;\\n\\n&lt;body&gt;\\n\\n&lt;p align=3D...</td>\n",
       "      <td>&lt;html&gt;&lt;/head&gt;&lt;body&gt;&lt;p align=3D\"center\"&gt;&lt;a =hre...</td>\n",
       "      <td>19</td>\n",
       "    </tr>\n",
       "    <tr>\n",
       "      <th>32396</th>\n",
       "      <td>32396</td>\n",
       "      <td>ham</td>\n",
       "      <td>I am confused. What file do you want me to upd...</td>\n",
       "      <td>I am confused. What file do you want me to upd...</td>\n",
       "      <td>152</td>\n",
       "    </tr>\n",
       "    <tr>\n",
       "      <th>26939</th>\n",
       "      <td>26939</td>\n",
       "      <td>spam</td>\n",
       "      <td>This is a multi-part message in MIME format\\n\\...</td>\n",
       "      <td>This is a multi-part message in MIME format--=...</td>\n",
       "      <td>688</td>\n",
       "    </tr>\n",
       "    <tr>\n",
       "      <th>57214</th>\n",
       "      <td>57214</td>\n",
       "      <td>ham</td>\n",
       "      <td>Sally, \\n\\n\\n\\nThanks for calling last night.\\...</td>\n",
       "      <td>Sally,Thanks for calling last night.I've spoke...</td>\n",
       "      <td>153</td>\n",
       "    </tr>\n",
       "    <tr>\n",
       "      <th>6052</th>\n",
       "      <td>6052</td>\n",
       "      <td>ham</td>\n",
       "      <td>Steve,\\n\\n\\n\\nI spoke with David ealier today....</td>\n",
       "      <td>Steve,I spoke with David ealier today. He is p...</td>\n",
       "      <td>287</td>\n",
       "    </tr>\n",
       "    <tr>\n",
       "      <th>33789</th>\n",
       "      <td>33789</td>\n",
       "      <td>ham</td>\n",
       "      <td>\\n\\n\\n\\nStart Date: 1/29/02; HourAhead hour: 9...</td>\n",
       "      <td>Start Date: 1/29/02; HourAhead hour: 9; No anc...</td>\n",
       "      <td>20</td>\n",
       "    </tr>\n",
       "    <tr>\n",
       "      <th>1986</th>\n",
       "      <td>1986</td>\n",
       "      <td>spam</td>\n",
       "      <td>The Oi| and Gas Advisory\\n\\nNow that Oi| and G...</td>\n",
       "      <td>The Oi| and Gas AdvisoryNow that Oi| and Gas h...</td>\n",
       "      <td>895</td>\n",
       "    </tr>\n",
       "    <tr>\n",
       "      <th>54414</th>\n",
       "      <td>54414</td>\n",
       "      <td>spam</td>\n",
       "      <td>http://accompany.cheap-cds.biz/?user=0vsrvdboq...</td>\n",
       "      <td>http://accompany.cheap-cds.biz/?user=0vsrvdboq...</td>\n",
       "      <td>401</td>\n",
       "    </tr>\n",
       "    <tr>\n",
       "      <th>60684</th>\n",
       "      <td>1774</td>\n",
       "      <td>ham</td>\n",
       "      <td>I'm not coming over</td>\n",
       "      <td>I'm not coming over</td>\n",
       "      <td>4</td>\n",
       "    </tr>\n",
       "    <tr>\n",
       "      <th>51987</th>\n",
       "      <td>51987</td>\n",
       "      <td>spam</td>\n",
       "      <td>&lt;html&gt;&lt;head&gt;&lt;title&gt;ldzmauamagpbrxathdlioytrapn...</td>\n",
       "      <td>&lt;html&gt;&lt;head&gt;&lt;title&gt;ldzmauamagpbrxathdlioytrapn...</td>\n",
       "      <td>462</td>\n",
       "    </tr>\n",
       "    <tr>\n",
       "      <th>25212</th>\n",
       "      <td>25212</td>\n",
       "      <td>spam</td>\n",
       "      <td>Reviving the sex lives or millions\\n\\nhttp://c...</td>\n",
       "      <td>Reviving the sex lives or millionshttp://cabin...</td>\n",
       "      <td>43</td>\n",
       "    </tr>\n",
       "    <tr>\n",
       "      <th>40717</th>\n",
       "      <td>40717</td>\n",
       "      <td>spam</td>\n",
       "      <td>&lt;HTML&gt;\\n\\n&lt;BODY&gt;\\n\\nHello, we would like to of...</td>\n",
       "      <td>&lt;HTML&gt;&lt;BODY&gt;Hello, we would like to offer loca...</td>\n",
       "      <td>85</td>\n",
       "    </tr>\n",
       "    <tr>\n",
       "      <th>18079</th>\n",
       "      <td>18079</td>\n",
       "      <td>ham</td>\n",
       "      <td>I am working on a charity event, A Night in Mo...</td>\n",
       "      <td>I am working on a charity event, A Night in Mo...</td>\n",
       "      <td>206</td>\n",
       "    </tr>\n",
       "    <tr>\n",
       "      <th>63072</th>\n",
       "      <td>4164</td>\n",
       "      <td>ham</td>\n",
       "      <td>I told that am coming on wednesday.</td>\n",
       "      <td>I told that am coming on wednesday.</td>\n",
       "      <td>7</td>\n",
       "    </tr>\n",
       "    <tr>\n",
       "      <th>62826</th>\n",
       "      <td>3917</td>\n",
       "      <td>ham</td>\n",
       "      <td>Ok. C u then.</td>\n",
       "      <td>Ok. C u then.</td>\n",
       "      <td>4</td>\n",
       "    </tr>\n",
       "    <tr>\n",
       "      <th>926</th>\n",
       "      <td>926</td>\n",
       "      <td>ham</td>\n",
       "      <td>Date:        Wed, 21 Aug 2002 10:54:46 -05...</td>\n",
       "      <td>Date: Wed, 21 Aug 2002 10:54:46 -0500From: Chr...</td>\n",
       "      <td>195</td>\n",
       "    </tr>\n",
       "    <tr>\n",
       "      <th>4083</th>\n",
       "      <td>4083</td>\n",
       "      <td>spam</td>\n",
       "      <td>New Penis Enlargement Patches!\\n\\nhttp://www.g...</td>\n",
       "      <td>New Penis Enlargement Patches!http://www.greta...</td>\n",
       "      <td>41</td>\n",
       "    </tr>\n",
       "    <tr>\n",
       "      <th>7691</th>\n",
       "      <td>7691</td>\n",
       "      <td>spam</td>\n",
       "      <td>----8066932624331978951\\n\\nContent-Type: text/...</td>\n",
       "      <td>----8066932624331978951Content-Type: text/plai...</td>\n",
       "      <td>125</td>\n",
       "    </tr>\n",
       "    <tr>\n",
       "      <th>1173</th>\n",
       "      <td>1173</td>\n",
       "      <td>spam</td>\n",
       "      <td>\"My girlfriend and me have been really enjoyin...</td>\n",
       "      <td>\"My girlfriend and me have been really enjoyin...</td>\n",
       "      <td>126</td>\n",
       "    </tr>\n",
       "    <tr>\n",
       "      <th>20726</th>\n",
       "      <td>20726</td>\n",
       "      <td>ham</td>\n",
       "      <td>Kate,\\n\\n\\n\\nMy assistant, Shirley Crenshaw, w...</td>\n",
       "      <td>Kate,My assistant, Shirley Crenshaw, will sche...</td>\n",
       "      <td>84</td>\n",
       "    </tr>\n",
       "    <tr>\n",
       "      <th>16681</th>\n",
       "      <td>16681</td>\n",
       "      <td>spam</td>\n",
       "      <td>&lt;html&gt;\\n\\n&lt;body&gt;\\n\\n&lt;table&gt;\\n\\n&lt;tr&gt;\\n\\n&lt;td&gt;\\n\\...</td>\n",
       "      <td>&lt;html&gt;&lt;body&gt;&lt;table&gt;&lt;tr&gt;&lt;td&gt;&lt;p&gt;Good morning,&lt;br...</td>\n",
       "      <td>107</td>\n",
       "    </tr>\n",
       "    <tr>\n",
       "      <th>54179</th>\n",
       "      <td>54179</td>\n",
       "      <td>ham</td>\n",
       "      <td>Friday 3/23 - Received a page from Silver in G...</td>\n",
       "      <td>Friday 3/23 - Received a page from Silver in G...</td>\n",
       "      <td>176</td>\n",
       "    </tr>\n",
       "    <tr>\n",
       "      <th>15052</th>\n",
       "      <td>15052</td>\n",
       "      <td>spam</td>\n",
       "      <td>...</td>\n",
       "      <td>Our Ref: CBN/IRD/CBX/021/05IMMEDIATE CONTRACT ...</td>\n",
       "      <td>287</td>\n",
       "    </tr>\n",
       "    <tr>\n",
       "      <th>9498</th>\n",
       "      <td>9498</td>\n",
       "      <td>spam</td>\n",
       "      <td>This is a multi-part message in MIME format.\\n...</td>\n",
       "      <td>This is a multi-part message in MIME format.--...</td>\n",
       "      <td>59</td>\n",
       "    </tr>\n",
       "    <tr>\n",
       "      <th>8582</th>\n",
       "      <td>8582</td>\n",
       "      <td>ham</td>\n",
       "      <td>Thanks Margaret.  Will keep you in the loop if...</td>\n",
       "      <td>Thanks Margaret. Will keep you in the loop if ...</td>\n",
       "      <td>189</td>\n",
       "    </tr>\n",
       "    <tr>\n",
       "      <th>14513</th>\n",
       "      <td>14513</td>\n",
       "      <td>ham</td>\n",
       "      <td>&gt; From: Tony Nugent &lt;tony@linuxworks.com.au&gt;\\n...</td>\n",
       "      <td>&gt; From: Tony Nugent &lt;tony@linuxworks.com.au&gt;&gt; ...</td>\n",
       "      <td>288</td>\n",
       "    </tr>\n",
       "    <tr>\n",
       "      <th>47267</th>\n",
       "      <td>47267</td>\n",
       "      <td>spam</td>\n",
       "      <td>This is a multi-part message in MIME format\\n\\...</td>\n",
       "      <td>This is a multi-part message in MIME format--=...</td>\n",
       "      <td>237</td>\n",
       "    </tr>\n",
       "    <tr>\n",
       "      <th>...</th>\n",
       "      <td>...</td>\n",
       "      <td>...</td>\n",
       "      <td>...</td>\n",
       "      <td>...</td>\n",
       "      <td>...</td>\n",
       "    </tr>\n",
       "    <tr>\n",
       "      <th>46600</th>\n",
       "      <td>46600</td>\n",
       "      <td>spam</td>\n",
       "      <td>----780969655595140\\n\\nContent-Type: text/html...</td>\n",
       "      <td>----780969655595140Content-Type: text/html;Con...</td>\n",
       "      <td>197</td>\n",
       "    </tr>\n",
       "    <tr>\n",
       "      <th>8585</th>\n",
       "      <td>8585</td>\n",
       "      <td>ham</td>\n",
       "      <td>Attached is the EEOS requirement list from Dav...</td>\n",
       "      <td>Attached is the EEOS requirement list from Dav...</td>\n",
       "      <td>13</td>\n",
       "    </tr>\n",
       "    <tr>\n",
       "      <th>20898</th>\n",
       "      <td>20898</td>\n",
       "      <td>ham</td>\n",
       "      <td>\\n\\n\\n\\nStart Date: 1/14/02; HourAhead hour: 1...</td>\n",
       "      <td>Start Date: 1/14/02; HourAhead hour: 15; No an...</td>\n",
       "      <td>20</td>\n",
       "    </tr>\n",
       "    <tr>\n",
       "      <th>60910</th>\n",
       "      <td>2000</td>\n",
       "      <td>ham</td>\n",
       "      <td>LMAO where's your fish memory when I need it?</td>\n",
       "      <td>LMAO where's your fish memory when I need it?</td>\n",
       "      <td>9</td>\n",
       "    </tr>\n",
       "    <tr>\n",
       "      <th>43351</th>\n",
       "      <td>43351</td>\n",
       "      <td>ham</td>\n",
       "      <td>Unit #11 is listed for $159,900.  It is the op...</td>\n",
       "      <td>Unit #11 is listed for $159,900. It is the opp...</td>\n",
       "      <td>20</td>\n",
       "    </tr>\n",
       "    <tr>\n",
       "      <th>42212</th>\n",
       "      <td>42212</td>\n",
       "      <td>spam</td>\n",
       "      <td>&lt;!DOCTYPE HTML PUBLIC \"-//W3C//DTD HTML 3.2//E...</td>\n",
       "      <td>&lt;!DOCTYPE HTML PUBLIC \"-//W3C//DTD HTML 3.2//E...</td>\n",
       "      <td>334</td>\n",
       "    </tr>\n",
       "    <tr>\n",
       "      <th>30515</th>\n",
       "      <td>30515</td>\n",
       "      <td>spam</td>\n",
       "      <td>This is a multi-part message in MIME format.\\n...</td>\n",
       "      <td>This is a multi-part message in MIME format.--...</td>\n",
       "      <td>82</td>\n",
       "    </tr>\n",
       "    <tr>\n",
       "      <th>44651</th>\n",
       "      <td>44651</td>\n",
       "      <td>ham</td>\n",
       "      <td>Evening Standard - 28 August 2002\\n\\n\\n\\n[Deft...</td>\n",
       "      <td>Evening Standard - 28 August 2002[Deft use of ...</td>\n",
       "      <td>209</td>\n",
       "    </tr>\n",
       "    <tr>\n",
       "      <th>51132</th>\n",
       "      <td>51132</td>\n",
       "      <td>ham</td>\n",
       "      <td>Michelle,\\n\\n\\n\\nTo answer your question on th...</td>\n",
       "      <td>Michelle,To answer your question on the alloca...</td>\n",
       "      <td>39</td>\n",
       "    </tr>\n",
       "    <tr>\n",
       "      <th>39600</th>\n",
       "      <td>39600</td>\n",
       "      <td>spam</td>\n",
       "      <td>&lt;HTML&gt;&lt;TABLE WIDTH=100% BORDER=0 CELLPADDING=0...</td>\n",
       "      <td>&lt;HTML&gt;&lt;TABLE WIDTH=100% BORDER=0 CELLPADDING=0...</td>\n",
       "      <td>104</td>\n",
       "    </tr>\n",
       "    <tr>\n",
       "      <th>3422</th>\n",
       "      <td>3422</td>\n",
       "      <td>spam</td>\n",
       "      <td>&lt;!DOCTYPE HTML PUBLIC \"-//W3C//DTD HTML 3.2//E...</td>\n",
       "      <td>&lt;!DOCTYPE HTML PUBLIC \"-//W3C//DTD HTML 3.2//E...</td>\n",
       "      <td>238</td>\n",
       "    </tr>\n",
       "    <tr>\n",
       "      <th>59655</th>\n",
       "      <td>745</td>\n",
       "      <td>ham</td>\n",
       "      <td>Men like shorter ladies. Gaze up into his eyes.</td>\n",
       "      <td>Men like shorter ladies. Gaze up into his eyes.</td>\n",
       "      <td>9</td>\n",
       "    </tr>\n",
       "    <tr>\n",
       "      <th>5534</th>\n",
       "      <td>5534</td>\n",
       "      <td>ham</td>\n",
       "      <td>Michelle Lokay,\\n\\n\\n\\nHEA Members have been e...</td>\n",
       "      <td>Michelle Lokay,HEA Members have been extended ...</td>\n",
       "      <td>176</td>\n",
       "    </tr>\n",
       "    <tr>\n",
       "      <th>40844</th>\n",
       "      <td>40844</td>\n",
       "      <td>spam</td>\n",
       "      <td>&lt;!DOCTYPE HTML PUBLIC \"-//W3C//DTD HTML 4.0 Tr...</td>\n",
       "      <td>&lt;!DOCTYPE HTML PUBLIC \"-//W3C//DTD HTML 4.0 Tr...</td>\n",
       "      <td>341</td>\n",
       "    </tr>\n",
       "    <tr>\n",
       "      <th>8769</th>\n",
       "      <td>8769</td>\n",
       "      <td>spam</td>\n",
       "      <td>&lt;html&gt;\\n\\nCialis Soft Tabs: perfect feeling of...</td>\n",
       "      <td>&lt;html&gt;Cialis Soft Tabs: perfect feeling of bei...</td>\n",
       "      <td>34</td>\n",
       "    </tr>\n",
       "    <tr>\n",
       "      <th>54322</th>\n",
       "      <td>54322</td>\n",
       "      <td>spam</td>\n",
       "      <td>&lt;!DOCTYPE HTML PUBLIC \"-//W3C//DTD HTML 3.2//E...</td>\n",
       "      <td>&lt;!DOCTYPE HTML PUBLIC \"-//W3C//DTD HTML 3.2//E...</td>\n",
       "      <td>155</td>\n",
       "    </tr>\n",
       "    <tr>\n",
       "      <th>48206</th>\n",
       "      <td>48206</td>\n",
       "      <td>spam</td>\n",
       "      <td>This is a multi-part message in MIME format.\\n...</td>\n",
       "      <td>This is a multi-part message in MIME format.--...</td>\n",
       "      <td>49</td>\n",
       "    </tr>\n",
       "    <tr>\n",
       "      <th>39062</th>\n",
       "      <td>39062</td>\n",
       "      <td>spam</td>\n",
       "      <td>THIS STOCK IS UNDISCOVERED ST0CK GEM - Just st...</td>\n",
       "      <td>THIS STOCK IS UNDISCOVERED ST0CK GEM - Just st...</td>\n",
       "      <td>1040</td>\n",
       "    </tr>\n",
       "    <tr>\n",
       "      <th>21377</th>\n",
       "      <td>21377</td>\n",
       "      <td>spam</td>\n",
       "      <td>This is a multi-part message in MIME format.\\n...</td>\n",
       "      <td>This is a multi-part message in MIME format.--...</td>\n",
       "      <td>65</td>\n",
       "    </tr>\n",
       "    <tr>\n",
       "      <th>60352</th>\n",
       "      <td>1442</td>\n",
       "      <td>ham</td>\n",
       "      <td>Ya:)going for restaurant..</td>\n",
       "      <td>Ya:)going for restaurant..</td>\n",
       "      <td>3</td>\n",
       "    </tr>\n",
       "    <tr>\n",
       "      <th>45978</th>\n",
       "      <td>45978</td>\n",
       "      <td>spam</td>\n",
       "      <td>This is a multi-part message in MIME format\\n\\...</td>\n",
       "      <td>This is a multi-part message in MIME format--=...</td>\n",
       "      <td>162</td>\n",
       "    </tr>\n",
       "    <tr>\n",
       "      <th>54216</th>\n",
       "      <td>54216</td>\n",
       "      <td>spam</td>\n",
       "      <td>Obtain a prosperous future, money earning powe...</td>\n",
       "      <td>Obtain a prosperous future, money earning powe...</td>\n",
       "      <td>73</td>\n",
       "    </tr>\n",
       "    <tr>\n",
       "      <th>10076</th>\n",
       "      <td>10076</td>\n",
       "      <td>spam</td>\n",
       "      <td>Find where to buy online cheap Viagra.\\n\\nhttp...</td>\n",
       "      <td>Find where to buy online cheap Viagra.http://d...</td>\n",
       "      <td>37</td>\n",
       "    </tr>\n",
       "    <tr>\n",
       "      <th>25452</th>\n",
       "      <td>25452</td>\n",
       "      <td>spam</td>\n",
       "      <td>This is a MIME encoded message.\\n\\n\\n\\n--=_626...</td>\n",
       "      <td>This is a MIME encoded message.--=_6267c93b74c...</td>\n",
       "      <td>48</td>\n",
       "    </tr>\n",
       "    <tr>\n",
       "      <th>10877</th>\n",
       "      <td>10877</td>\n",
       "      <td>ham</td>\n",
       "      <td>Attached is the November 2000 nomination for o...</td>\n",
       "      <td>Attached is the November 2000 nomination for o...</td>\n",
       "      <td>35</td>\n",
       "    </tr>\n",
       "    <tr>\n",
       "      <th>62025</th>\n",
       "      <td>3115</td>\n",
       "      <td>ham</td>\n",
       "      <td>Yes watching footie but worried we're going to...</td>\n",
       "      <td>Yes watching footie but worried we're going to...</td>\n",
       "      <td>13</td>\n",
       "    </tr>\n",
       "    <tr>\n",
       "      <th>33233</th>\n",
       "      <td>33233</td>\n",
       "      <td>ham</td>\n",
       "      <td>\\n\\nChristian,\\n\\n\\n\\nOur Spring/Fall window o...</td>\n",
       "      <td>Christian,Our Spring/Fall window of \"?nactivit...</td>\n",
       "      <td>118</td>\n",
       "    </tr>\n",
       "    <tr>\n",
       "      <th>11825</th>\n",
       "      <td>11825</td>\n",
       "      <td>ham</td>\n",
       "      <td>Rick just informed me that he will be unable t...</td>\n",
       "      <td>Rick just informed me that he will be unable t...</td>\n",
       "      <td>108</td>\n",
       "    </tr>\n",
       "    <tr>\n",
       "      <th>22078</th>\n",
       "      <td>22078</td>\n",
       "      <td>spam</td>\n",
       "      <td>Heya,\\n\\n\\n\\nDo you want a rolex watch?\\n\\n\\n\\...</td>\n",
       "      <td>Heya,Do you want a rolex watch?In our online s...</td>\n",
       "      <td>77</td>\n",
       "    </tr>\n",
       "    <tr>\n",
       "      <th>41417</th>\n",
       "      <td>41417</td>\n",
       "      <td>ham</td>\n",
       "      <td>Daren,\\n\\n\\n\\nThe above mentioned meter is on ...</td>\n",
       "      <td>Daren,The above mentioned meter is on stranger...</td>\n",
       "      <td>270</td>\n",
       "    </tr>\n",
       "  </tbody>\n",
       "</table>\n",
       "<p>10000 rows × 5 columns</p>\n",
       "</div>"
      ],
      "text/plain": [
       "       index label                                               text  \\\n",
       "49555  49555   ham  The memo distributed on June 27 on Reimburseme...   \n",
       "38491  38491  spam  <html>\\n\\n<head>\\n\\n</head>\\n\\n<body bgcolor=\"...   \n",
       "62332   3422  spam  Welcome! Please reply with your AGE and GENDER...   \n",
       "53677  53677  spam  \\n\\n<html>\\n\\n</head>\\n\\n<body>\\n\\n<p align=3D...   \n",
       "32396  32396   ham  I am confused. What file do you want me to upd...   \n",
       "26939  26939  spam  This is a multi-part message in MIME format\\n\\...   \n",
       "57214  57214   ham  Sally, \\n\\n\\n\\nThanks for calling last night.\\...   \n",
       "6052    6052   ham  Steve,\\n\\n\\n\\nI spoke with David ealier today....   \n",
       "33789  33789   ham  \\n\\n\\n\\nStart Date: 1/29/02; HourAhead hour: 9...   \n",
       "1986    1986  spam  The Oi| and Gas Advisory\\n\\nNow that Oi| and G...   \n",
       "54414  54414  spam  http://accompany.cheap-cds.biz/?user=0vsrvdboq...   \n",
       "60684   1774   ham                                I'm not coming over   \n",
       "51987  51987  spam  <html><head><title>ldzmauamagpbrxathdlioytrapn...   \n",
       "25212  25212  spam  Reviving the sex lives or millions\\n\\nhttp://c...   \n",
       "40717  40717  spam  <HTML>\\n\\n<BODY>\\n\\nHello, we would like to of...   \n",
       "18079  18079   ham  I am working on a charity event, A Night in Mo...   \n",
       "63072   4164   ham                I told that am coming on wednesday.   \n",
       "62826   3917   ham                                      Ok. C u then.   \n",
       "926      926   ham      Date:        Wed, 21 Aug 2002 10:54:46 -05...   \n",
       "4083    4083  spam  New Penis Enlargement Patches!\\n\\nhttp://www.g...   \n",
       "7691    7691  spam  ----8066932624331978951\\n\\nContent-Type: text/...   \n",
       "1173    1173  spam  \"My girlfriend and me have been really enjoyin...   \n",
       "20726  20726   ham  Kate,\\n\\n\\n\\nMy assistant, Shirley Crenshaw, w...   \n",
       "16681  16681  spam  <html>\\n\\n<body>\\n\\n<table>\\n\\n<tr>\\n\\n<td>\\n\\...   \n",
       "54179  54179   ham  Friday 3/23 - Received a page from Silver in G...   \n",
       "15052  15052  spam                                                ...   \n",
       "9498    9498  spam  This is a multi-part message in MIME format.\\n...   \n",
       "8582    8582   ham  Thanks Margaret.  Will keep you in the loop if...   \n",
       "14513  14513   ham  > From: Tony Nugent <tony@linuxworks.com.au>\\n...   \n",
       "47267  47267  spam  This is a multi-part message in MIME format\\n\\...   \n",
       "...      ...   ...                                                ...   \n",
       "46600  46600  spam  ----780969655595140\\n\\nContent-Type: text/html...   \n",
       "8585    8585   ham  Attached is the EEOS requirement list from Dav...   \n",
       "20898  20898   ham  \\n\\n\\n\\nStart Date: 1/14/02; HourAhead hour: 1...   \n",
       "60910   2000   ham      LMAO where's your fish memory when I need it?   \n",
       "43351  43351   ham  Unit #11 is listed for $159,900.  It is the op...   \n",
       "42212  42212  spam  <!DOCTYPE HTML PUBLIC \"-//W3C//DTD HTML 3.2//E...   \n",
       "30515  30515  spam  This is a multi-part message in MIME format.\\n...   \n",
       "44651  44651   ham  Evening Standard - 28 August 2002\\n\\n\\n\\n[Deft...   \n",
       "51132  51132   ham  Michelle,\\n\\n\\n\\nTo answer your question on th...   \n",
       "39600  39600  spam  <HTML><TABLE WIDTH=100% BORDER=0 CELLPADDING=0...   \n",
       "3422    3422  spam  <!DOCTYPE HTML PUBLIC \"-//W3C//DTD HTML 3.2//E...   \n",
       "59655    745   ham    Men like shorter ladies. Gaze up into his eyes.   \n",
       "5534    5534   ham  Michelle Lokay,\\n\\n\\n\\nHEA Members have been e...   \n",
       "40844  40844  spam  <!DOCTYPE HTML PUBLIC \"-//W3C//DTD HTML 4.0 Tr...   \n",
       "8769    8769  spam  <html>\\n\\nCialis Soft Tabs: perfect feeling of...   \n",
       "54322  54322  spam  <!DOCTYPE HTML PUBLIC \"-//W3C//DTD HTML 3.2//E...   \n",
       "48206  48206  spam  This is a multi-part message in MIME format.\\n...   \n",
       "39062  39062  spam  THIS STOCK IS UNDISCOVERED ST0CK GEM - Just st...   \n",
       "21377  21377  spam  This is a multi-part message in MIME format.\\n...   \n",
       "60352   1442   ham                         Ya:)going for restaurant..   \n",
       "45978  45978  spam  This is a multi-part message in MIME format\\n\\...   \n",
       "54216  54216  spam  Obtain a prosperous future, money earning powe...   \n",
       "10076  10076  spam  Find where to buy online cheap Viagra.\\n\\nhttp...   \n",
       "25452  25452  spam  This is a MIME encoded message.\\n\\n\\n\\n--=_626...   \n",
       "10877  10877   ham  Attached is the November 2000 nomination for o...   \n",
       "62025   3115   ham  Yes watching footie but worried we're going to...   \n",
       "33233  33233   ham  \\n\\nChristian,\\n\\n\\n\\nOur Spring/Fall window o...   \n",
       "11825  11825   ham  Rick just informed me that he will be unable t...   \n",
       "22078  22078  spam  Heya,\\n\\n\\n\\nDo you want a rolex watch?\\n\\n\\n\\...   \n",
       "41417  41417   ham  Daren,\\n\\n\\n\\nThe above mentioned meter is on ...   \n",
       "\n",
       "                                          tokenized_text  token_count  \n",
       "49555  The memo distributed on June 27 on Reimburseme...           66  \n",
       "38491  <html><head></head><body bgcolor=\"#FFFFFF\"><b>...           47  \n",
       "62332  Welcome! Please reply with your AGE and GENDER...           12  \n",
       "53677  <html></head><body><p align=3D\"center\"><a =hre...           19  \n",
       "32396  I am confused. What file do you want me to upd...          152  \n",
       "26939  This is a multi-part message in MIME format--=...          688  \n",
       "57214  Sally,Thanks for calling last night.I've spoke...          153  \n",
       "6052   Steve,I spoke with David ealier today. He is p...          287  \n",
       "33789  Start Date: 1/29/02; HourAhead hour: 9; No anc...           20  \n",
       "1986   The Oi| and Gas AdvisoryNow that Oi| and Gas h...          895  \n",
       "54414  http://accompany.cheap-cds.biz/?user=0vsrvdboq...          401  \n",
       "60684                                I'm not coming over            4  \n",
       "51987  <html><head><title>ldzmauamagpbrxathdlioytrapn...          462  \n",
       "25212  Reviving the sex lives or millionshttp://cabin...           43  \n",
       "40717  <HTML><BODY>Hello, we would like to offer loca...           85  \n",
       "18079  I am working on a charity event, A Night in Mo...          206  \n",
       "63072                I told that am coming on wednesday.            7  \n",
       "62826                                      Ok. C u then.            4  \n",
       "926    Date: Wed, 21 Aug 2002 10:54:46 -0500From: Chr...          195  \n",
       "4083   New Penis Enlargement Patches!http://www.greta...           41  \n",
       "7691   ----8066932624331978951Content-Type: text/plai...          125  \n",
       "1173   \"My girlfriend and me have been really enjoyin...          126  \n",
       "20726  Kate,My assistant, Shirley Crenshaw, will sche...           84  \n",
       "16681  <html><body><table><tr><td><p>Good morning,<br...          107  \n",
       "54179  Friday 3/23 - Received a page from Silver in G...          176  \n",
       "15052  Our Ref: CBN/IRD/CBX/021/05IMMEDIATE CONTRACT ...          287  \n",
       "9498   This is a multi-part message in MIME format.--...           59  \n",
       "8582   Thanks Margaret. Will keep you in the loop if ...          189  \n",
       "14513  > From: Tony Nugent <tony@linuxworks.com.au>> ...          288  \n",
       "47267  This is a multi-part message in MIME format--=...          237  \n",
       "...                                                  ...          ...  \n",
       "46600  ----780969655595140Content-Type: text/html;Con...          197  \n",
       "8585   Attached is the EEOS requirement list from Dav...           13  \n",
       "20898  Start Date: 1/14/02; HourAhead hour: 15; No an...           20  \n",
       "60910      LMAO where's your fish memory when I need it?            9  \n",
       "43351  Unit #11 is listed for $159,900. It is the opp...           20  \n",
       "42212  <!DOCTYPE HTML PUBLIC \"-//W3C//DTD HTML 3.2//E...          334  \n",
       "30515  This is a multi-part message in MIME format.--...           82  \n",
       "44651  Evening Standard - 28 August 2002[Deft use of ...          209  \n",
       "51132  Michelle,To answer your question on the alloca...           39  \n",
       "39600  <HTML><TABLE WIDTH=100% BORDER=0 CELLPADDING=0...          104  \n",
       "3422   <!DOCTYPE HTML PUBLIC \"-//W3C//DTD HTML 3.2//E...          238  \n",
       "59655    Men like shorter ladies. Gaze up into his eyes.            9  \n",
       "5534   Michelle Lokay,HEA Members have been extended ...          176  \n",
       "40844  <!DOCTYPE HTML PUBLIC \"-//W3C//DTD HTML 4.0 Tr...          341  \n",
       "8769   <html>Cialis Soft Tabs: perfect feeling of bei...           34  \n",
       "54322  <!DOCTYPE HTML PUBLIC \"-//W3C//DTD HTML 3.2//E...          155  \n",
       "48206  This is a multi-part message in MIME format.--...           49  \n",
       "39062  THIS STOCK IS UNDISCOVERED ST0CK GEM - Just st...         1040  \n",
       "21377  This is a multi-part message in MIME format.--...           65  \n",
       "60352                         Ya:)going for restaurant..            3  \n",
       "45978  This is a multi-part message in MIME format--=...          162  \n",
       "54216  Obtain a prosperous future, money earning powe...           73  \n",
       "10076  Find where to buy online cheap Viagra.http://d...           37  \n",
       "25452  This is a MIME encoded message.--=_6267c93b74c...           48  \n",
       "10877  Attached is the November 2000 nomination for o...           35  \n",
       "62025  Yes watching footie but worried we're going to...           13  \n",
       "33233  Christian,Our Spring/Fall window of \"?nactivit...          118  \n",
       "11825  Rick just informed me that he will be unable t...          108  \n",
       "22078  Heya,Do you want a rolex watch?In our online s...           77  \n",
       "41417  Daren,The above mentioned meter is on stranger...          270  \n",
       "\n",
       "[10000 rows x 5 columns]"
      ]
     },
     "execution_count": 66,
     "metadata": {},
     "output_type": "execute_result"
    }
   ],
   "source": [
    "df_unseen_test"
   ]
  },
  {
   "cell_type": "code",
   "execution_count": 83,
   "metadata": {},
   "outputs": [],
   "source": [
    "test=pd.read_csv(\"Test.csv\")"
   ]
  },
  {
   "cell_type": "code",
   "execution_count": null,
   "metadata": {},
   "outputs": [],
   "source": []
  },
  {
   "cell_type": "code",
   "execution_count": 84,
   "metadata": {},
   "outputs": [],
   "source": [
    "test['tokenized_text']=test.apply(tokenize, axis=1)"
   ]
  },
  {
   "cell_type": "code",
   "execution_count": 85,
   "metadata": {},
   "outputs": [],
   "source": [
    "test['token_count']=test.apply(token_count, axis=1)\n"
   ]
  },
  {
   "cell_type": "code",
   "execution_count": 86,
   "metadata": {},
   "outputs": [],
   "source": [
    "test.columns=['label', 'text', 'tokenized_text', 'token_count']"
   ]
  },
  {
   "cell_type": "code",
   "execution_count": 87,
   "metadata": {},
   "outputs": [
    {
     "data": {
      "text/plain": [
       "'SBIDrCArd X8091 used for rs 57 on 31 jul19 at 96081575 txn#921207889385'"
      ]
     },
     "execution_count": 87,
     "metadata": {},
     "output_type": "execute_result"
    }
   ],
   "source": [
    "test.tokenized_text[1]"
   ]
  },
  {
   "cell_type": "code",
   "execution_count": 88,
   "metadata": {},
   "outputs": [
    {
     "name": "stdout",
     "output_type": "stream",
     "text": [
      "conversion :  ['1 Day FREE SHOPPING']\n",
      "after tfidf :  [[0. 0. 0. ... 0. 0. 0.]]\n",
      "shape of labels:  (9,)\n",
      "shape of data:  (9, 4000)\n",
      " -----total Computation time for preparing model data = 0.015625 seconds\n"
     ]
    }
   ],
   "source": [
    "# prepare model input data\n",
    "mat_texts_test,tags_test=prepare_model_input(tfidf_model,test,mode='')"
   ]
  },
  {
   "cell_type": "code",
   "execution_count": 79,
   "metadata": {},
   "outputs": [
    {
     "data": {
      "text/plain": [
       "array([[7.46625543e-01],\n",
       "       [1.21445955e-04],\n",
       "       [1.00000000e+00],\n",
       "       [3.81225686e-06],\n",
       "       [1.97782174e-06],\n",
       "       [8.43413830e-01],\n",
       "       [1.49846837e-08],\n",
       "       [4.27574933e-01],\n",
       "       [4.37368304e-01]], dtype=float32)"
      ]
     },
     "execution_count": 79,
     "metadata": {},
     "output_type": "execute_result"
    }
   ],
   "source": [
    "model.predict(mat_texts_test)"
   ]
  },
  {
   "cell_type": "code",
   "execution_count": 89,
   "metadata": {},
   "outputs": [
    {
     "data": {
      "text/html": [
       "<div>\n",
       "<style scoped>\n",
       "    .dataframe tbody tr th:only-of-type {\n",
       "        vertical-align: middle;\n",
       "    }\n",
       "\n",
       "    .dataframe tbody tr th {\n",
       "        vertical-align: top;\n",
       "    }\n",
       "\n",
       "    .dataframe thead th {\n",
       "        text-align: right;\n",
       "    }\n",
       "</style>\n",
       "<table border=\"1\" class=\"dataframe\">\n",
       "  <thead>\n",
       "    <tr style=\"text-align: right;\">\n",
       "      <th></th>\n",
       "      <th>label</th>\n",
       "      <th>text</th>\n",
       "      <th>tokenized_text</th>\n",
       "      <th>token_count</th>\n",
       "    </tr>\n",
       "  </thead>\n",
       "  <tbody>\n",
       "    <tr>\n",
       "      <th>0</th>\n",
       "      <td>spam</td>\n",
       "      <td>1 Day FREE SHOPPING\\n</td>\n",
       "      <td>1 Day FREE SHOPPING</td>\n",
       "      <td>4</td>\n",
       "    </tr>\n",
       "    <tr>\n",
       "      <th>1</th>\n",
       "      <td>ham</td>\n",
       "      <td>SBIDrCArd X8091 used for rs 57 on 31 jul19 at ...</td>\n",
       "      <td>SBIDrCArd X8091 used for rs 57 on 31 jul19 at ...</td>\n",
       "      <td>12</td>\n",
       "    </tr>\n",
       "    <tr>\n",
       "      <th>2</th>\n",
       "      <td>spam</td>\n",
       "      <td>Free entry in 2 a wkly comp to win FA Cup fina...</td>\n",
       "      <td>Free entry in 2 a wkly comp to win FA Cup fina...</td>\n",
       "      <td>28</td>\n",
       "    </tr>\n",
       "    <tr>\n",
       "      <th>3</th>\n",
       "      <td>spam</td>\n",
       "      <td>I HAVE A DATE ON SUNDAY WITH WILL!!</td>\n",
       "      <td>I HAVE A DATE ON SUNDAY WITH WILL!!</td>\n",
       "      <td>8</td>\n",
       "    </tr>\n",
       "    <tr>\n",
       "      <th>4</th>\n",
       "      <td>asuh</td>\n",
       "      <td>Magic Monday! Use Code Make30 and get rs 30 ca...</td>\n",
       "      <td>Magic Monday! Use Code Make30 and get rs 30 ca...</td>\n",
       "      <td>16</td>\n",
       "    </tr>\n",
       "    <tr>\n",
       "      <th>5</th>\n",
       "      <td>asb</td>\n",
       "      <td>0% Processing fee &amp; no hidden charges for pers...</td>\n",
       "      <td>0% Processing fee &amp; no hidden charges for pers...</td>\n",
       "      <td>10</td>\n",
       "    </tr>\n",
       "    <tr>\n",
       "      <th>6</th>\n",
       "      <td>not</td>\n",
       "      <td>Dear Akash,\\n \\nWe understand your disappointm...</td>\n",
       "      <td>Dear Akash,We understand your disappointment.W...</td>\n",
       "      <td>42</td>\n",
       "    </tr>\n",
       "    <tr>\n",
       "      <th>7</th>\n",
       "      <td>asdj</td>\n",
       "      <td>Avail exculsive offers discount at tatacliq,bi...</td>\n",
       "      <td>Avail exculsive offers discount at tatacliq,bi...</td>\n",
       "      <td>6</td>\n",
       "    </tr>\n",
       "    <tr>\n",
       "      <th>8</th>\n",
       "      <td>sadhu</td>\n",
       "      <td>Apply for lifetime free* membership of america...</td>\n",
       "      <td>Apply for lifetime free* membership of america...</td>\n",
       "      <td>10</td>\n",
       "    </tr>\n",
       "  </tbody>\n",
       "</table>\n",
       "</div>"
      ],
      "text/plain": [
       "   label                                               text  \\\n",
       "0   spam                              1 Day FREE SHOPPING\\n   \n",
       "1    ham  SBIDrCArd X8091 used for rs 57 on 31 jul19 at ...   \n",
       "2   spam  Free entry in 2 a wkly comp to win FA Cup fina...   \n",
       "3   spam                I HAVE A DATE ON SUNDAY WITH WILL!!   \n",
       "4   asuh  Magic Monday! Use Code Make30 and get rs 30 ca...   \n",
       "5    asb  0% Processing fee & no hidden charges for pers...   \n",
       "6    not  Dear Akash,\\n \\nWe understand your disappointm...   \n",
       "7   asdj  Avail exculsive offers discount at tatacliq,bi...   \n",
       "8  sadhu  Apply for lifetime free* membership of america...   \n",
       "\n",
       "                                      tokenized_text  token_count  \n",
       "0                                1 Day FREE SHOPPING            4  \n",
       "1  SBIDrCArd X8091 used for rs 57 on 31 jul19 at ...           12  \n",
       "2  Free entry in 2 a wkly comp to win FA Cup fina...           28  \n",
       "3                I HAVE A DATE ON SUNDAY WITH WILL!!            8  \n",
       "4  Magic Monday! Use Code Make30 and get rs 30 ca...           16  \n",
       "5  0% Processing fee & no hidden charges for pers...           10  \n",
       "6  Dear Akash,We understand your disappointment.W...           42  \n",
       "7  Avail exculsive offers discount at tatacliq,bi...            6  \n",
       "8  Apply for lifetime free* membership of america...           10  "
      ]
     },
     "execution_count": 89,
     "metadata": {},
     "output_type": "execute_result"
    }
   ],
   "source": [
    "test"
   ]
  },
  {
   "cell_type": "code",
   "execution_count": 56,
   "metadata": {},
   "outputs": [
    {
     "data": {
      "text/plain": [
       "array([[0.28647274],\n",
       "       [0.05415099],\n",
       "       [0.9886863 ],\n",
       "       [0.01717733],\n",
       "       [0.08789813],\n",
       "       [0.22078027],\n",
       "       [0.02512039],\n",
       "       [0.33109105],\n",
       "       [0.58583325]], dtype=float32)"
      ]
     },
     "execution_count": 56,
     "metadata": {},
     "output_type": "execute_result"
    }
   ],
   "source": [
    "model.predict(mat_texts_test)"
   ]
  },
  {
   "cell_type": "code",
   "execution_count": 61,
   "metadata": {},
   "outputs": [
    {
     "data": {
      "text/plain": [
       "array([[1.],\n",
       "       [0.],\n",
       "       [1.],\n",
       "       [0.],\n",
       "       [0.],\n",
       "       [0.],\n",
       "       [0.],\n",
       "       [1.],\n",
       "       [1.]], dtype=float32)"
      ]
     },
     "execution_count": 61,
     "metadata": {},
     "output_type": "execute_result"
    }
   ],
   "source": [
    "np.around(model.predict(mat_texts_test))"
   ]
  },
  {
   "cell_type": "code",
   "execution_count": 69,
   "metadata": {},
   "outputs": [
    {
     "data": {
      "text/plain": [
       "array([[1.],\n",
       "       [0.],\n",
       "       [1.],\n",
       "       [0.],\n",
       "       [0.],\n",
       "       [0.],\n",
       "       [0.],\n",
       "       [0.],\n",
       "       [0.]], dtype=float32)"
      ]
     },
     "execution_count": 69,
     "metadata": {},
     "output_type": "execute_result"
    }
   ],
   "source": [
    "np.around(model.predict(mat_texts_test))"
   ]
  },
  {
   "cell_type": "code",
   "execution_count": 82,
   "metadata": {},
   "outputs": [
    {
     "data": {
      "text/plain": [
       "array([[7.46625543e-01],\n",
       "       [1.21445955e-04],\n",
       "       [1.00000000e+00],\n",
       "       [3.81225686e-06],\n",
       "       [1.97782174e-06],\n",
       "       [8.43413830e-01],\n",
       "       [1.49846837e-08],\n",
       "       [4.27574933e-01],\n",
       "       [4.37368304e-01]], dtype=float32)"
      ]
     },
     "execution_count": 82,
     "metadata": {},
     "output_type": "execute_result"
    }
   ],
   "source": [
    "model.predict(mat_texts_test)"
   ]
  },
  {
   "cell_type": "code",
   "execution_count": 92,
   "metadata": {},
   "outputs": [
    {
     "data": {
      "text/plain": [
       "array([[1.],\n",
       "       [0.],\n",
       "       [1.],\n",
       "       [0.],\n",
       "       [0.],\n",
       "       [1.],\n",
       "       [0.],\n",
       "       [0.],\n",
       "       [0.]], dtype=float32)"
      ]
     },
     "execution_count": 92,
     "metadata": {},
     "output_type": "execute_result"
    }
   ],
   "source": [
    "np.around(model.predict(mat_texts_test))"
   ]
  },
  {
   "cell_type": "code",
   "execution_count": null,
   "metadata": {},
   "outputs": [],
   "source": []
  }
 ],
 "metadata": {
  "kernelspec": {
   "display_name": "Python 3",
   "language": "python",
   "name": "python3"
  },
  "language_info": {
   "codemirror_mode": {
    "name": "ipython",
    "version": 3
   },
   "file_extension": ".py",
   "mimetype": "text/x-python",
   "name": "python",
   "nbconvert_exporter": "python",
   "pygments_lexer": "ipython3",
   "version": "3.6.8"
  }
 },
 "nbformat": 4,
 "nbformat_minor": 2
}
